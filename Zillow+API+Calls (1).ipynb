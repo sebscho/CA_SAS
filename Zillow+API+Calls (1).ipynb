{
 "cells": [
  {
   "cell_type": "code",
   "execution_count": 1,
   "metadata": {},
   "outputs": [
    {
     "name": "stdout",
     "output_type": "stream",
     "text": [
      "Populating the interactive namespace from numpy and matplotlib\n"
     ]
    },
    {
     "name": "stderr",
     "output_type": "stream",
     "text": [
      "/Users/sebscho/anaconda3/lib/python3.6/site-packages/IPython/core/magics/pylab.py:160: UserWarning: pylab import has clobbered these variables: ['plt']\n",
      "`%matplotlib` prevents importing * from pylab and numpy\n",
      "  \"\\n`%matplotlib` prevents importing * from pylab and numpy\"\n"
     ]
    }
   ],
   "source": [
    "import pandas as pd\n",
    "import numpy as np\n",
    "import seaborn as sns\n",
    "import statsmodels.formula.api as smf\n",
    "import matplotlib.pylab as plt\n",
    "import xmltodict, json\n",
    "import requests\n",
    "%pylab inline"
   ]
  },
  {
   "cell_type": "code",
   "execution_count": 2,
   "metadata": {},
   "outputs": [],
   "source": [
    "# adding in my api key \n",
    "with open('zillow_key.txt', 'r') as f:\n",
    "     myAPI = f.readline()"
   ]
  },
  {
   "cell_type": "code",
   "execution_count": null,
   "metadata": {},
   "outputs": [],
   "source": [
    "# adding params as listed in api documentation: https://www.zillow.com/howto/api/GetDeepComps.htm\n",
    "params = {'zws-id': myAPI,\n",
    "         'address': '220 East 73rd Street',\n",
    "         'citystatezip': '10021',\n",
    "         'rentzestimate': 'True'}\n",
    "# test\n",
    "result = requests.get('http://www.zillow.com/webservice/GetDeepSearchResults.htm', params = params)"
   ]
  },
  {
   "cell_type": "code",
   "execution_count": null,
   "metadata": {},
   "outputs": [],
   "source": [
    "# see first X values \n",
    "result.text[100:]"
   ]
  },
  {
   "cell_type": "code",
   "execution_count": null,
   "metadata": {},
   "outputs": [],
   "source": [
    "d = xmltodict.parse(result.text)"
   ]
  },
  {
   "cell_type": "code",
   "execution_count": null,
   "metadata": {},
   "outputs": [],
   "source": [
    "d"
   ]
  },
  {
   "cell_type": "code",
   "execution_count": null,
   "metadata": {
    "collapsed": true
   },
   "outputs": [],
   "source": [
    "# correct place to parse for building address\n",
    "address = d['SearchResults:searchresults']['request']['address']"
   ]
  },
  {
   "cell_type": "code",
   "execution_count": null,
   "metadata": {},
   "outputs": [],
   "source": [
    "# results provides multiple listing for the same address. \n",
    "# Bedrooms are nested here\n",
    "\n",
    "bedrooms = d['SearchResults:searchresults']['response']['results']['result'][0]['bedrooms']\n",
    "bathrooms = d['SearchResults:searchresults']['response']['results']['result'][0]['bathrooms']\n",
    "\n",
    "print ('This apartment at {} has {} bedrooms and {} bathrooms'.format(address, bedrooms, bathrooms))                                                                                      "
   ]
  },
  {
   "cell_type": "code",
   "execution_count": null,
   "metadata": {},
   "outputs": [],
   "source": [
    "# In each response, you can extract the date sold and price for each sale\n",
    "date_sold = d['SearchResults:searchresults']['response']['results']['result'][2]['lastSoldDate']\n",
    "price = d['SearchResults:searchresults']['response']['results']['result'][2]['lastSoldPrice']['#text']                                                                                      \n",
    "currency = d['SearchResults:searchresults']['response']['results']['result'][2]['lastSoldPrice']['@currency']\n",
    "\n",
    "print ('Sold on {} for {}{}'.format(date_sold,price,currency))                                                                                      "
   ]
  },
  {
   "cell_type": "code",
   "execution_count": null,
   "metadata": {},
   "outputs": [],
   "source": [
    "# within each 'result,' the first position indcludes info about the unit (above)\n",
    "# each successive item is a record for each time its been sold, but doesn't seem to be for different units (just any unit at that address)\n",
    "d['SearchResults:searchresults']['response']['results']['result'][1].keys()"
   ]
  },
  {
   "cell_type": "code",
   "execution_count": null,
   "metadata": {},
   "outputs": [],
   "source": [
    "# building type (ie cooperative, )\n",
    "building_type = d['SearchResults:searchresults']['response']['results']['result'][0]['useCode']\n",
    "\n",
    "# finished building sq ft - not at unit level\n",
    "building_sqft = d['SearchResults:searchresults']['response']['results']['result'][0]['finishedSqFt']\n",
    "\n",
    "# lot square feet - only one per result. also not at unit level\n",
    "lot_sqft = d['SearchResults:searchresults']['response']['results']['result'][0]['lotSizeSqFt']"
   ]
  },
  {
   "cell_type": "markdown",
   "metadata": {},
   "source": [
    "___"
   ]
  },
  {
   "cell_type": "code",
   "execution_count": null,
   "metadata": {
    "collapsed": true
   },
   "outputs": [],
   "source": [
    "# do for other apt with unit\n",
    "params = {'zws-id': myAPI,\n",
    "         'address': '1735 York Ave',\n",
    "         'citystatezip': '10128',\n",
    "         'rentzestimate': 'True'}\n",
    "york = requests.get('http://www.zillow.com/webservice/GetDeepSearchResults.htm', params = params)\n"
   ]
  },
  {
   "cell_type": "code",
   "execution_count": null,
   "metadata": {
    "collapsed": true
   },
   "outputs": [],
   "source": [
    "# testing another\n",
    "york = xmltodict.parse(york.text)"
   ]
  },
  {
   "cell_type": "code",
   "execution_count": null,
   "metadata": {},
   "outputs": [],
   "source": [
    "# testing another apt in a dumb way\n",
    "address = york['SearchResults:searchresults']['request']['address']\n",
    "bedrooms = york['SearchResults:searchresults']['response']['results']['result'][0]['bedrooms']\n",
    "bathrooms = york['SearchResults:searchresults']['response']['results']['result'][0]['bathrooms']\n",
    "# date_sold = york['SearchResults:searchresults']['response']['results']['result'][2]['lastSoldDate']\n",
    "# price = york['SearchResults:searchresults']['response']['results']['result'][2]['lastSoldPrice']['#text']                                                                                      \n",
    "# currency = york['SearchResults:searchresults']['response']['results']['result'][2]['lastSoldPrice']['@currency']\n",
    "building_type = york['SearchResults:searchresults']['response']['results']['result'][0]['useCode']\n"
   ]
  },
  {
   "cell_type": "code",
   "execution_count": null,
   "metadata": {},
   "outputs": [],
   "source": [
    "print ('This Yorkville {} at {} has {} bedroom(s) and {} bathroom(s)'.format(building_type,address,bedrooms,bathrooms))                                                                                      "
   ]
  },
  {
   "cell_type": "markdown",
   "metadata": {},
   "source": [
    "___"
   ]
  },
  {
   "cell_type": "code",
   "execution_count": null,
   "metadata": {
    "collapsed": true
   },
   "outputs": [],
   "source": [
    "# d = {'result': {'list': {'one_more_annoying_thing': ['a', 'b', 'c']}}}\n",
    "# # step 1 -- you should iteratively run the next few lines to see the outputs come up\n",
    "# # as you go\n",
    "# d.keys()\n",
    "# # ok, \"result\" is some key we can just skip through\n",
    "\n",
    "# # so then we just filter in to \"result\" and look at the keys of that dict\n",
    "# d[\"result\"].keys()\n",
    "# # and after running this one, we see 'list' so let's just keep filtering down\n",
    "# d[\"result\"][\"list\"].keys()\n",
    "\n",
    "# # and again...\n",
    "# d[\"result\"][\"list\"][\"one_more_annoying_thing\"].keys()\n",
    "# #aha! this line raises an exception about a \"list\" not having \"keys\"\n",
    "# # so we know we've found a list that we probably care about\n",
    "# # in your case, this may be a string object instead of a list, depending\n",
    "# # on the output format\n",
    "\n",
    "# # after running this, \n",
    "# filtered = d[\"result\"][\"list\"][\"one_more_annoying_thing\"]\n",
    "# a = filtered[0]\n",
    "# b = filtered[1]"
   ]
  },
  {
   "cell_type": "code",
   "execution_count": 79,
   "metadata": {},
   "outputs": [],
   "source": [
    "# do for other apt with unit\n",
    "params = {'zws-id': myAPI,\n",
    "         'address': '220 E 73rd St # 1D',\n",
    "         'citystatezip': '10128',\n",
    "         'rentzestimate': 'True'}\n",
    "test = requests.get('http://www.zillow.com/webservice/GetDeepSearchResults.htm', params = params)\n"
   ]
  },
  {
   "cell_type": "code",
   "execution_count": 80,
   "metadata": {
    "collapsed": true
   },
   "outputs": [],
   "source": [
    "l = xmltodict.parse(test.text)"
   ]
  },
  {
   "cell_type": "code",
   "execution_count": 81,
   "metadata": {},
   "outputs": [
    {
     "data": {
      "text/plain": [
       "'220 E 73rd St # 1D'"
      ]
     },
     "execution_count": 81,
     "metadata": {},
     "output_type": "execute_result"
    }
   ],
   "source": [
    "# testing another apt in a dumb way\n",
    "address = l['SearchResults:searchresults']['request']['address']\n",
    "\n",
    "address"
   ]
  },
  {
   "cell_type": "code",
   "execution_count": 83,
   "metadata": {},
   "outputs": [
    {
     "data": {
      "text/plain": [
       "'1.0'"
      ]
     },
     "execution_count": 83,
     "metadata": {},
     "output_type": "execute_result"
    }
   ],
   "source": [
    "l['SearchResults:searchresults']['response']['results']['result']['bathrooms']\n",
    "# york['SearchResults:searchresults']['response']['results']['result'][0]['bedrooms']\n"
   ]
  },
  {
   "cell_type": "code",
   "execution_count": 89,
   "metadata": {},
   "outputs": [
    {
     "data": {
      "text/plain": [
       "['781 5 AVENUE # 30T,10022',\n",
       " '781 5 AVENUE # 30T,10022',\n",
       " '650 PARK AVENUE # 9D,10065',\n",
       " '650 PARK AVENUE # 9D,10065',\n",
       " '3 EAST 71 STREET # 3D,10021',\n",
       " '3 EAST 71 STREET # 3D,10021',\n",
       " '962 5 AVENUE # 8C,10075',\n",
       " '962 5 AVENUE # 8C,10075',\n",
       " '888 PARK AVENUE # PHA,10075',\n",
       " '888 PARK AVENUE # PHA,10075',\n",
       " '118 EAST 60 STREET # 20B,10022',\n",
       " '118 EAST 60 STREET # 20B,10022',\n",
       " '773 LEXINGTON AVENUE # 9D,10065',\n",
       " '773 LEXINGTON AVENUE # 9D,10065',\n",
       " '571 PARK AVENUE # 1507,10065',\n",
       " '571 PARK AVENUE # 1507,10065',\n",
       " '125 EAST 63 STREET # 6C,10065',\n",
       " '125 EAST 63 STREET # 6C,10065',\n",
       " '1250 3 AVENUE # 10D,10021',\n",
       " '1250 3 AVENUE # 10D,10021',\n",
       " '177 EAST 74 STREET # 15E,10021',\n",
       " '177 EAST 74 STREET # 15E,10021',\n",
       " '111 EAST 75 STREET # 4A,10021',\n",
       " '111 EAST 75 STREET # 4A,10021',\n",
       " '151 EAST 76 STREET # 8H,10021',\n",
       " '151 EAST 76 STREET # 8H,10021',\n",
       " '1091 LEXINGTON AVENUE # 5F,10075',\n",
       " '1091 LEXINGTON AVENUE # 5F,10075',\n",
       " '1071 3 AVENUE # 14H,10065',\n",
       " '1071 3 AVENUE # 14H,10065',\n",
       " '1131 3 AVENUE # 4F,10065',\n",
       " '1131 3 AVENUE # 4F,10065',\n",
       " '220 EAST 67 STREET # 3E,10065',\n",
       " '220 EAST 67 STREET # 3E,10065',\n",
       " '245 EAST 72 STREET # 9F,10021',\n",
       " '245 EAST 72 STREET # 9F,10021',\n",
       " '210 EAST 73 STREET # 5E,10021',\n",
       " '210 EAST 73 STREET # 5F,10021',\n",
       " '210 EAST 73 STREET # 5E,10021',\n",
       " '210 EAST 73 STREET # 5F,10021',\n",
       " '1285 3 AVENUE # 4C,10021',\n",
       " '1285 3 AVENUE # 4C,10021',\n",
       " '225 EAST 74 STREET # 4B,10021',\n",
       " '225 EAST 74 STREET # 4B,10021',\n",
       " '225 EAST 76 STREET # 6B,10021',\n",
       " '225 EAST 76 STREET # 6B,10021',\n",
       " '315 EAST 65 STREET # PHA,10065',\n",
       " '315 EAST 65 STREET # PHA,10065',\n",
       " '1325 1 AVENUE # B1005,10021',\n",
       " '1325 1 AVENUE # B1005,10021',\n",
       " '353 EAST 72 STREET # 25B,10021',\n",
       " '353 EAST 72 STREET # 25B,10021',\n",
       " '345 EAST 73 STREET # 11J,10021',\n",
       " '345 EAST 73 STREET # 11J,10021',\n",
       " '1461 1 AVENUE # 19D,10075',\n",
       " '1461 1 AVENUE # 2H,10075',\n",
       " '1461 1 AVENUE # 3J,10075',\n",
       " '1461 1 AVENUE # 2H,10075',\n",
       " '1461 1 AVENUE # 3J,10075',\n",
       " '1461 1 AVENUE # 19D,10075',\n",
       " '435 EAST 65 STREET # 14B,10065',\n",
       " '435 EAST 65 STREET # 14B,10065',\n",
       " '1344 1 AVENUE # 5J,10021',\n",
       " '1344 1 AVENUE # 5J,10021',\n",
       " '440 EAST 79 STREET # 5L,10075',\n",
       " '440 EAST 79 STREET # 5L,10075',\n",
       " '520 EAST 72 STREET # 2T,10021',\n",
       " '520 EAST 72 STREET # 2T,10021',\n",
       " '121 EAST 88 STREET # 1B,10128',\n",
       " '121 EAST 88 STREET # 1B,10128',\n",
       " '218 EAST 82 STREET # 2RE,10028',\n",
       " '218 EAST 82 STREET # 2RE,10028',\n",
       " '204 EAST 90 STREET # 1E,10128',\n",
       " '204 EAST 90 STREET # 4W,10128',\n",
       " '204 EAST 90 STREET # 4W,10128',\n",
       " '204 EAST 90 STREET # 1E,10128',\n",
       " '950 PARK AVENUE # 5A,10028',\n",
       " '950 PARK AVENUE # 5A,10028',\n",
       " '1225 MADISON AVENUE # 3B,10128',\n",
       " '1225 MADISON AVENUE # 3B,10128',\n",
       " '48 EAST 89 STREET # 18B,10128',\n",
       " '48 EAST 89 STREET # 18B,10128',\n",
       " '1254 MADISON AVENUE # 3C,10128',\n",
       " '1254 MADISON AVENUE # 3C,10128',\n",
       " '1274 MADISON AVENUE # 14B,10128',\n",
       " '1274 MADISON AVENUE # 14B,10128',\n",
       " '1160 PARK AVENUE # 3D,10128',\n",
       " '1160 PARK AVENUE # 3D,10128',\n",
       " '173 EAST 79 STREET # 15C,10075',\n",
       " '173 EAST 79 STREET # 7C,10075',\n",
       " '173 EAST 79 STREET # 15C,10075',\n",
       " '173 EAST 79 STREET # 7C,10075',\n",
       " '179 EAST 79 STREET # 5A,10075',\n",
       " '179 EAST 79 STREET # 5A,10075',\n",
       " '163 EAST 81 STREET # 3D,10028',\n",
       " '163 EAST 81 STREET # 3D,10028',\n",
       " '108 EAST 82 STREET # 8B,10028',\n",
       " '108 EAST 82 STREET # 8B,10028',\n",
       " '103 EAST 84 STREET # PHD,10028',\n",
       " '103 EAST 84 STREET # PHD,10028',\n",
       " '108 EAST 86 STREET # 14S,10028',\n",
       " '108 EAST 86 STREET # 14S,10028',\n",
       " '1095 PARK AVENUE # 16C,10128',\n",
       " '1095 PARK AVENUE # 16C,10128',\n",
       " '108 EAST 91 STREET # 9D,10128',\n",
       " '108 EAST 91 STREET # 9D,10128',\n",
       " '175 EAST 93 STREET # 4D,10128',\n",
       " '175 EAST 93 STREET # 4D,10128',\n",
       " '130 EAST 94 STREET # 1E,10128',\n",
       " '130 EAST 94 STREET # 1E,10128',\n",
       " '1681 2 AVENUE # 17A,10128',\n",
       " '1681 2 AVENUE # 17A,10128',\n",
       " '1589 3 AVENUE # 7A,10128',\n",
       " '1589 3 AVENUE # 7H,10128',\n",
       " '1589 3 AVENUE # 7H,10128',\n",
       " '1589 3 AVENUE # 7A,10128',\n",
       " '333 EAST 79 STREET # 4L,10075',\n",
       " '333 EAST 79 STREET # 4L,10075',\n",
       " '1682 2 AVENUE # 7A,10128',\n",
       " '1682 2 AVENUE # 7A,10128',\n",
       " '311 EAST 87 STREET # 4V,10128',\n",
       " '311 EAST 87 STREET # 4V,10128',\n",
       " '321 EAST 89 STREET # 1D,10128',\n",
       " '321 EAST 89 STREET # 1D,10128',\n",
       " '1761 1 AVENUE # 24A,10128',\n",
       " '1761 1 AVENUE # 24A,10128',\n",
       " '1781 1 AVENUE # 17E,10128',\n",
       " '1781 1 AVENUE # 17E,10128',\n",
       " '345 EAST 93 STREET # 4K,10128',\n",
       " '345 EAST 93 STREET # 11J,10128',\n",
       " '345 EAST 93 STREET # 4K,10128',\n",
       " '345 EAST 93 STREET # 11J,10128',\n",
       " '436 EAST 86 STREET # 30J,10028',\n",
       " '436 EAST 86 STREET # 30J,10028',\n",
       " '1652 1 AVENUE # 8K,10028',\n",
       " '1652 1 AVENUE # 8K,10028',\n",
       " '425 EAST 86 STREET # 11BC,10028',\n",
       " '425 EAST 86 STREET # 11BC,10028',\n",
       " '1725 YORK AVENUE # 15G,10128',\n",
       " '1725 YORK AVENUE # 15G,10128',\n",
       " '10 EAST END AVENUE # 10F,10075',\n",
       " '10 EAST END AVENUE # 10F,10075',\n",
       " '505 EAST 82 STREET # 4E,10028',\n",
       " '505 EAST 82 STREET # 6D,10028',\n",
       " '505 EAST 82 STREET # 4E,10028',\n",
       " '505 EAST 82 STREET # 6D,10028',\n",
       " '535 EAST 86 STREET # 10J,10028',\n",
       " '535 EAST 86 STREET # 10J,10028',\n",
       " '']"
      ]
     },
     "execution_count": 89,
     "metadata": {},
     "output_type": "execute_result"
    }
   ],
   "source": [
    "addr_str = '''\n",
    "781 5 AVENUE # 30T,10022\n",
    "781 5 AVENUE # 30T,10022\n",
    "650 PARK AVENUE # 9D,10065\n",
    "650 PARK AVENUE # 9D,10065\n",
    "3 EAST 71 STREET # 3D,10021\n",
    "3 EAST 71 STREET # 3D,10021\n",
    "962 5 AVENUE # 8C,10075\n",
    "962 5 AVENUE # 8C,10075\n",
    "888 PARK AVENUE # PHA,10075\n",
    "888 PARK AVENUE # PHA,10075\n",
    "118 EAST 60 STREET # 20B,10022\n",
    "118 EAST 60 STREET # 20B,10022\n",
    "773 LEXINGTON AVENUE # 9D,10065\n",
    "773 LEXINGTON AVENUE # 9D,10065\n",
    "571 PARK AVENUE # 1507,10065\n",
    "571 PARK AVENUE # 1507,10065\n",
    "125 EAST 63 STREET # 6C,10065\n",
    "125 EAST 63 STREET # 6C,10065\n",
    "1250 3 AVENUE # 10D,10021\n",
    "1250 3 AVENUE # 10D,10021\n",
    "177 EAST 74 STREET # 15E,10021\n",
    "177 EAST 74 STREET # 15E,10021\n",
    "111 EAST 75 STREET # 4A,10021\n",
    "111 EAST 75 STREET # 4A,10021\n",
    "151 EAST 76 STREET # 8H,10021\n",
    "151 EAST 76 STREET # 8H,10021\n",
    "1091 LEXINGTON AVENUE # 5F,10075\n",
    "1091 LEXINGTON AVENUE # 5F,10075\n",
    "1071 3 AVENUE # 14H,10065\n",
    "1071 3 AVENUE # 14H,10065\n",
    "1131 3 AVENUE # 4F,10065\n",
    "1131 3 AVENUE # 4F,10065\n",
    "220 EAST 67 STREET # 3E,10065\n",
    "220 EAST 67 STREET # 3E,10065\n",
    "245 EAST 72 STREET # 9F,10021\n",
    "245 EAST 72 STREET # 9F,10021\n",
    "210 EAST 73 STREET # 5E,10021\n",
    "210 EAST 73 STREET # 5F,10021\n",
    "210 EAST 73 STREET # 5E,10021\n",
    "210 EAST 73 STREET # 5F,10021\n",
    "1285 3 AVENUE # 4C,10021\n",
    "1285 3 AVENUE # 4C,10021\n",
    "225 EAST 74 STREET # 4B,10021\n",
    "225 EAST 74 STREET # 4B,10021\n",
    "225 EAST 76 STREET # 6B,10021\n",
    "225 EAST 76 STREET # 6B,10021\n",
    "315 EAST 65 STREET # PHA,10065\n",
    "315 EAST 65 STREET # PHA,10065\n",
    "1325 1 AVENUE # B1005,10021\n",
    "1325 1 AVENUE # B1005,10021\n",
    "353 EAST 72 STREET # 25B,10021\n",
    "353 EAST 72 STREET # 25B,10021\n",
    "345 EAST 73 STREET # 11J,10021\n",
    "345 EAST 73 STREET # 11J,10021\n",
    "1461 1 AVENUE # 19D,10075\n",
    "1461 1 AVENUE # 2H,10075\n",
    "1461 1 AVENUE # 3J,10075\n",
    "1461 1 AVENUE # 2H,10075\n",
    "1461 1 AVENUE # 3J,10075\n",
    "1461 1 AVENUE # 19D,10075\n",
    "435 EAST 65 STREET # 14B,10065\n",
    "435 EAST 65 STREET # 14B,10065\n",
    "1344 1 AVENUE # 5J,10021\n",
    "1344 1 AVENUE # 5J,10021\n",
    "440 EAST 79 STREET # 5L,10075\n",
    "440 EAST 79 STREET # 5L,10075\n",
    "520 EAST 72 STREET # 2T,10021\n",
    "520 EAST 72 STREET # 2T,10021\n",
    "121 EAST 88 STREET # 1B,10128\n",
    "121 EAST 88 STREET # 1B,10128\n",
    "218 EAST 82 STREET # 2RE,10028\n",
    "218 EAST 82 STREET # 2RE,10028\n",
    "204 EAST 90 STREET # 1E,10128\n",
    "204 EAST 90 STREET # 4W,10128\n",
    "204 EAST 90 STREET # 4W,10128\n",
    "204 EAST 90 STREET # 1E,10128\n",
    "950 PARK AVENUE # 5A,10028\n",
    "950 PARK AVENUE # 5A,10028\n",
    "1225 MADISON AVENUE # 3B,10128\n",
    "1225 MADISON AVENUE # 3B,10128\n",
    "48 EAST 89 STREET # 18B,10128\n",
    "48 EAST 89 STREET # 18B,10128\n",
    "1254 MADISON AVENUE # 3C,10128\n",
    "1254 MADISON AVENUE # 3C,10128\n",
    "1274 MADISON AVENUE # 14B,10128\n",
    "1274 MADISON AVENUE # 14B,10128\n",
    "1160 PARK AVENUE # 3D,10128\n",
    "1160 PARK AVENUE # 3D,10128\n",
    "173 EAST 79 STREET # 15C,10075\n",
    "173 EAST 79 STREET # 7C,10075\n",
    "173 EAST 79 STREET # 15C,10075\n",
    "173 EAST 79 STREET # 7C,10075\n",
    "179 EAST 79 STREET # 5A,10075\n",
    "179 EAST 79 STREET # 5A,10075\n",
    "163 EAST 81 STREET # 3D,10028\n",
    "163 EAST 81 STREET # 3D,10028\n",
    "108 EAST 82 STREET # 8B,10028\n",
    "108 EAST 82 STREET # 8B,10028\n",
    "103 EAST 84 STREET # PHD,10028\n",
    "103 EAST 84 STREET # PHD,10028\n",
    "108 EAST 86 STREET # 14S,10028\n",
    "108 EAST 86 STREET # 14S,10028\n",
    "1095 PARK AVENUE # 16C,10128\n",
    "1095 PARK AVENUE # 16C,10128\n",
    "108 EAST 91 STREET # 9D,10128\n",
    "108 EAST 91 STREET # 9D,10128\n",
    "175 EAST 93 STREET # 4D,10128\n",
    "175 EAST 93 STREET # 4D,10128\n",
    "130 EAST 94 STREET # 1E,10128\n",
    "130 EAST 94 STREET # 1E,10128\n",
    "1681 2 AVENUE # 17A,10128\n",
    "1681 2 AVENUE # 17A,10128\n",
    "1589 3 AVENUE # 7A,10128\n",
    "1589 3 AVENUE # 7H,10128\n",
    "1589 3 AVENUE # 7H,10128\n",
    "1589 3 AVENUE # 7A,10128\n",
    "333 EAST 79 STREET # 4L,10075\n",
    "333 EAST 79 STREET # 4L,10075\n",
    "1682 2 AVENUE # 7A,10128\n",
    "1682 2 AVENUE # 7A,10128\n",
    "311 EAST 87 STREET # 4V,10128\n",
    "311 EAST 87 STREET # 4V,10128\n",
    "321 EAST 89 STREET # 1D,10128\n",
    "321 EAST 89 STREET # 1D,10128\n",
    "1761 1 AVENUE # 24A,10128\n",
    "1761 1 AVENUE # 24A,10128\n",
    "1781 1 AVENUE # 17E,10128\n",
    "1781 1 AVENUE # 17E,10128\n",
    "345 EAST 93 STREET # 4K,10128\n",
    "345 EAST 93 STREET # 11J,10128\n",
    "345 EAST 93 STREET # 4K,10128\n",
    "345 EAST 93 STREET # 11J,10128\n",
    "436 EAST 86 STREET # 30J,10028\n",
    "436 EAST 86 STREET # 30J,10028\n",
    "1652 1 AVENUE # 8K,10028\n",
    "1652 1 AVENUE # 8K,10028\n",
    "425 EAST 86 STREET # 11BC,10028\n",
    "425 EAST 86 STREET # 11BC,10028\n",
    "1725 YORK AVENUE # 15G,10128\n",
    "1725 YORK AVENUE # 15G,10128\n",
    "10 EAST END AVENUE # 10F,10075\n",
    "10 EAST END AVENUE # 10F,10075\n",
    "505 EAST 82 STREET # 4E,10028\n",
    "505 EAST 82 STREET # 6D,10028\n",
    "505 EAST 82 STREET # 4E,10028\n",
    "505 EAST 82 STREET # 6D,10028\n",
    "535 EAST 86 STREET # 10J,10028\n",
    "535 EAST 86 STREET # 10J,10028\n",
    "'''\n",
    "\n",
    "addresses = addr_str.split('\\n') # you get back  [\"a\", \"b\", \"c\"]\n",
    "addresses = addresses[1:]\n"
   ]
  },
  {
   "cell_type": "code",
   "execution_count": 101,
   "metadata": {},
   "outputs": [
    {
     "ename": "ValueError",
     "evalue": "not enough values to unpack (expected 2, got 1)",
     "output_type": "error",
     "traceback": [
      "\u001b[0;31m---------------------------------------------------------------------------\u001b[0m",
      "\u001b[0;31mValueError\u001b[0m                                Traceback (most recent call last)",
      "\u001b[0;32m<ipython-input-101-15eb4ca6c8ca>\u001b[0m in \u001b[0;36m<module>\u001b[0;34m()\u001b[0m\n\u001b[1;32m      5\u001b[0m \u001b[0;34m\u001b[0m\u001b[0m\n\u001b[1;32m      6\u001b[0m \u001b[0;32mfor\u001b[0m \u001b[0maddr_zip\u001b[0m \u001b[0;32min\u001b[0m \u001b[0maddresses\u001b[0m\u001b[0;34m:\u001b[0m\u001b[0;34m\u001b[0m\u001b[0m\n\u001b[0;32m----> 7\u001b[0;31m     \u001b[0maddr\u001b[0m\u001b[0;34m,\u001b[0m \u001b[0mzips\u001b[0m \u001b[0;34m=\u001b[0m \u001b[0maddr_zip\u001b[0m\u001b[0;34m.\u001b[0m\u001b[0msplit\u001b[0m\u001b[0;34m(\u001b[0m\u001b[0;34m\",\"\u001b[0m\u001b[0;34m)\u001b[0m\u001b[0;34m\u001b[0m\u001b[0m\n\u001b[0m\u001b[1;32m      8\u001b[0m     \u001b[0;31m# delays for 2 seconds\u001b[0m\u001b[0;34m\u001b[0m\u001b[0;34m\u001b[0m\u001b[0m\n\u001b[1;32m      9\u001b[0m     \u001b[0mtime\u001b[0m\u001b[0;34m.\u001b[0m\u001b[0msleep\u001b[0m\u001b[0;34m(\u001b[0m\u001b[0;36m2\u001b[0m\u001b[0;34m)\u001b[0m\u001b[0;34m\u001b[0m\u001b[0m\n",
      "\u001b[0;31mValueError\u001b[0m: not enough values to unpack (expected 2, got 1)"
     ]
    }
   ],
   "source": [
    "import time\n",
    "\n",
    "errors = []\n",
    "final = []\n",
    "\n",
    "for addr_zip in addresses:\n",
    "    addr, zips = addr_zip.split(\",\")\n",
    "    # delays for 2 seconds\n",
    "    time.sleep(2) \n",
    "    # looping all addresses through api \n",
    "    params = {'zws-id': myAPI,\n",
    "             'address': addr,\n",
    "             'citystatezip': zips,\n",
    "             'rentzestimate': 'True'}\n",
    "    resp = requests.get('http://www.zillow.com/webservice/GetDeepSearchResults.htm', params = params)\n",
    "    \n",
    "    if \"no exact match found for input address\" in (resp.text):\n",
    "        errors.append(addr_zip)\n",
    "        continue\n",
    "   \n",
    "    # parse each resp, and name it d \n",
    "    m = xmltodict.parse(resp.text)\n",
    "    \n",
    "    \n",
    "    # pull out bedrooms for each d\n",
    "    results = m['SearchResults:searchresults']['response']['results']['result']\n",
    "    \n",
    "    if 'bedrooms' in results:\n",
    "        bedrooms = m['SearchResults:searchresults']['response']['results']['result']['bedrooms']\n",
    "    else:\n",
    "        errors.append(addr_zip)\n",
    "        continue \n",
    "                \n",
    "    # add the address and bedroom num to \"final\" list\n",
    "    final.append((addr, bedrooms))\n",
    "    \n",
    "    "
   ]
  },
  {
   "cell_type": "code",
   "execution_count": 110,
   "metadata": {},
   "outputs": [
    {
     "name": "stdout",
     "output_type": "stream",
     "text": [
      "0\n",
      "1\n",
      "108 EAST 82 STREET # 8B\n",
      "108 EAST 91 STREET # 9D\n",
      "1095 PARK AVENUE # 16C\n",
      "111 EAST 75 STREET # 4A\n",
      "1160 PARK AVENUE # 3D\n",
      "118 EAST 60 STREET # 20B\n",
      "121 EAST 88 STREET # 1B\n",
      "130 EAST 94 STREET # 1E\n",
      "1682 2 AVENUE # 7A\n",
      "1725 YORK AVENUE # 15G\n",
      "173 EAST 79 STREET # 15C\n",
      "175 EAST 93 STREET # 4D\n",
      "1781 1 AVENUE # 17E\n",
      "179 EAST 79 STREET # 5A\n",
      "2\n",
      "204 EAST 90 STREET # 4W\n",
      "210 EAST 73 STREET # 5E\n",
      "210 EAST 73 STREET # 5F\n",
      "218 EAST 82 STREET # 2RE\n",
      "220 EAST 67 STREET # 3E\n",
      "225 EAST 76 STREET # 6B\n",
      "245 EAST 72 STREET # 9F\n",
      "3\n",
      "315 EAST 65 STREET # PHA\n",
      "321 EAST 89 STREET # 1D\n",
      "345 EAST 73 STREET # 11J\n",
      "345 EAST 93 STREET # 11J\n",
      "345 EAST 93 STREET # 4K\n",
      "4\n",
      "425 EAST 86 STREET # 11BC\n",
      "435 EAST 65 STREET # 14B\n",
      "505 EAST 82 STREET # 4E\n",
      "535 EAST 86 STREET # 10J\n",
      "650 PARK AVENUE # 9D\n",
      "888 PARK AVENUE # PHA\n"
     ]
    }
   ],
   "source": [
    "print ('\\n'.join(np.unique(final)))\n"
   ]
  },
  {
   "cell_type": "code",
   "execution_count": 109,
   "metadata": {},
   "outputs": [
    {
     "name": "stdout",
     "output_type": "stream",
     "text": [
      "10 EAST END AVENUE # 10F,10075\n",
      "103 EAST 84 STREET # PHD,10028\n",
      "1071 3 AVENUE # 14H,10065\n",
      "108 EAST 86 STREET # 14S,10028\n",
      "1091 LEXINGTON AVENUE # 5F,10075\n",
      "1131 3 AVENUE # 4F,10065\n",
      "1225 MADISON AVENUE # 3B,10128\n",
      "125 EAST 63 STREET # 6C,10065\n",
      "1250 3 AVENUE # 10D,10021\n",
      "1254 MADISON AVENUE # 3C,10128\n",
      "1274 MADISON AVENUE # 14B,10128\n",
      "1285 3 AVENUE # 4C,10021\n",
      "1325 1 AVENUE # B1005,10021\n",
      "1344 1 AVENUE # 5J,10021\n",
      "1461 1 AVENUE # 19D,10075\n",
      "1461 1 AVENUE # 2H,10075\n",
      "1461 1 AVENUE # 3J,10075\n",
      "151 EAST 76 STREET # 8H,10021\n",
      "1589 3 AVENUE # 7A,10128\n",
      "1589 3 AVENUE # 7H,10128\n",
      "163 EAST 81 STREET # 3D,10028\n",
      "1652 1 AVENUE # 8K,10028\n",
      "1681 2 AVENUE # 17A,10128\n",
      "173 EAST 79 STREET # 7C,10075\n",
      "1761 1 AVENUE # 24A,10128\n",
      "177 EAST 74 STREET # 15E,10021\n",
      "204 EAST 90 STREET # 1E,10128\n",
      "225 EAST 74 STREET # 4B,10021\n",
      "3 EAST 71 STREET # 3D,10021\n",
      "311 EAST 87 STREET # 4V,10128\n",
      "333 EAST 79 STREET # 4L,10075\n",
      "353 EAST 72 STREET # 25B,10021\n",
      "436 EAST 86 STREET # 30J,10028\n",
      "440 EAST 79 STREET # 5L,10075\n",
      "48 EAST 89 STREET # 18B,10128\n",
      "505 EAST 82 STREET # 6D,10028\n",
      "520 EAST 72 STREET # 2T,10021\n",
      "571 PARK AVENUE # 1507,10065\n",
      "773 LEXINGTON AVENUE # 9D,10065\n",
      "781 5 AVENUE # 30T,10022\n",
      "950 PARK AVENUE # 5A,10028\n",
      "962 5 AVENUE # 8C,10075\n"
     ]
    }
   ],
   "source": [
    "print ('\\n'.join(np.unique(errors)))"
   ]
  },
  {
   "cell_type": "code",
   "execution_count": 77,
   "metadata": {},
   "outputs": [
    {
     "data": {
      "text/plain": [
       "odict_keys(['zpid', 'links', 'address', 'FIPScounty', 'useCode', 'yearBuilt', 'zestimate', 'rentzestimate', 'localRealEstate'])"
      ]
     },
     "execution_count": 77,
     "metadata": {},
     "output_type": "execute_result"
    }
   ],
   "source": [
    "m['SearchResults:searchresults']['response']['results']['result'].keys()"
   ]
  },
  {
   "cell_type": "code",
   "execution_count": null,
   "metadata": {
    "collapsed": true
   },
   "outputs": [],
   "source": []
  }
 ],
 "metadata": {
  "kernelspec": {
   "display_name": "Python 3",
   "language": "python",
   "name": "python3"
  },
  "language_info": {
   "codemirror_mode": {
    "name": "ipython",
    "version": 3
   },
   "file_extension": ".py",
   "mimetype": "text/x-python",
   "name": "python",
   "nbconvert_exporter": "python",
   "pygments_lexer": "ipython3",
   "version": "3.6.3"
  }
 },
 "nbformat": 4,
 "nbformat_minor": 2
}
