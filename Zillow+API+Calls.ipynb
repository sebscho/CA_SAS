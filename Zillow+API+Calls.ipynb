{
 "cells": [
  {
   "cell_type": "code",
   "execution_count": 1,
   "metadata": {},
   "outputs": [
    {
     "name": "stdout",
     "output_type": "stream",
     "text": [
      "Populating the interactive namespace from numpy and matplotlib\n"
     ]
    },
    {
     "name": "stderr",
     "output_type": "stream",
     "text": [
      "/Users/sebscho/anaconda3/lib/python3.6/site-packages/IPython/core/magics/pylab.py:160: UserWarning: pylab import has clobbered these variables: ['plt']\n",
      "`%matplotlib` prevents importing * from pylab and numpy\n",
      "  \"\\n`%matplotlib` prevents importing * from pylab and numpy\"\n"
     ]
    }
   ],
   "source": [
    "import pandas as pd\n",
    "import numpy as np\n",
    "import seaborn as sns\n",
    "import statsmodels.formula.api as smf\n",
    "import matplotlib.pylab as plt\n",
    "import xmltodict, json\n",
    "import requests\n",
    "%pylab inline"
   ]
  },
  {
   "cell_type": "code",
   "execution_count": 2,
   "metadata": {},
   "outputs": [],
   "source": [
    "# adding in my api key \n",
    "with open('zillow_key.txt', 'r') as f:\n",
    "     myAPI = f.readline()"
   ]
  },
  {
   "cell_type": "code",
   "execution_count": 3,
   "metadata": {},
   "outputs": [],
   "source": [
    "# adding params as listed in api documentation: https://www.zillow.com/howto/api/GetDeepComps.htm\n",
    "params = {'zws-id': myAPI,\n",
    "         'address': '220 East 73rd Street',\n",
    "         'citystatezip': '10021',\n",
    "         'rentzestimate': 'True'}\n",
    "# test\n",
    "result = requests.get('http://www.zillow.com/webservice/GetDeepSearchResults.htm', params = params)"
   ]
  },
  {
   "cell_type": "code",
   "execution_count": 4,
   "metadata": {},
   "outputs": [
    {
     "data": {
      "text/plain": [
       "'llow.com/static/xsd/SearchResults.xsd https://www.zillowstatic.com/vstatic/6ce354c/static/xsd/SearchResults.xsd\" xmlns:xsi=\"http://www.w3.org/2001/XMLSchema-instance\" xmlns:SearchResults=\"http://www.zillow.com/static/xsd/SearchResults.xsd\"><request><address>220 East 73rd Street</address><citystatezip>10021</citystatezip></request><message><text>Request successfully processed</text><code>0</code></message><response><results><result><zpid>31537173</zpid><links><homedetails>https://www.zillow.com/homedetails/220-E-73rd-St-New-York-NY-10021/31537173_zpid/</homedetails><graphsanddata>http://www.zillow.com/homedetails/220-E-73rd-St-New-York-NY-10021/31537173_zpid/#charts-and-data</graphsanddata><mapthishome>http://www.zillow.com/homes/31537173_zpid/</mapthishome><comparables>http://www.zillow.com/homes/comps/31537173_zpid/</comparables></links><address><street>220 E 73rd St</street><zipcode>10021</zipcode><city>New York</city><state>NY</state><latitude>40.76972</latitude><longitude>-73.959045</longitude></address><FIPScounty>36061</FIPScounty><useCode>Cooperative</useCode><taxAssessmentYear>2016</taxAssessmentYear><taxAssessment>1.7948E7</taxAssessment><yearBuilt>1920</yearBuilt><lotSizeSqFt>10216</lotSizeSqFt><finishedSqFt>90700</finishedSqFt><bathrooms>2.0</bathrooms><bedrooms>2</bedrooms><zestimate><amount currency=\"USD\">1979521</amount><last-updated>11/28/2017</last-updated><oneWeekChange deprecated=\"true\"></oneWeekChange><valueChange duration=\"30\" currency=\"USD\">-36272</valueChange><valuationRange><low currency=\"USD\">653242</low><high currency=\"USD\">3959042</high></valuationRange><percentile>0</percentile></zestimate><rentzestimate><amount currency=\"USD\">7248</amount><last-updated>11/28/2017</last-updated><oneWeekChange deprecated=\"true\"></oneWeekChange><valueChange duration=\"30\" currency=\"USD\">1272</valueChange><valuationRange><low currency=\"USD\">3552</low><high currency=\"USD\">13046</high></valuationRange></rentzestimate><localRealEstate><region name=\"Upper East Side\" id=\"270957\" type=\"neighborhood\"><zindexValue>1,149,300</zindexValue><links><overview>http://www.zillow.com/local-info/NY-New-York/Upper-East-Side/r_270957/</overview><forSaleByOwner>http://www.zillow.com/upper-east-side-manhattan-new-york-ny/fsbo/</forSaleByOwner><forSale>http://www.zillow.com/upper-east-side-manhattan-new-york-ny/</forSale></links></region></localRealEstate></result><result><zpid>108866091</zpid><links><homedetails>https://www.zillow.com/homedetails/220-E-73rd-St-New-York-NY-10021/108866091_zpid/</homedetails><graphsanddata>http://www.zillow.com/homedetails/220-E-73rd-St-New-York-NY-10021/108866091_zpid/#charts-and-data</graphsanddata><mapthishome>http://www.zillow.com/homes/108866091_zpid/</mapthishome><comparables>http://www.zillow.com/homes/comps/108866091_zpid/</comparables></links><address><street>220 E 73rd St</street><zipcode>10021</zipcode><city>New York</city><state>NY</state><latitude>40.769725</latitude><longitude>-73.959014</longitude></address><FIPScounty>36061</FIPScounty><useCode>Cooperative</useCode><lastSoldDate>05/13/2011</lastSoldDate><lastSoldPrice currency=\"USD\">1330000</lastSoldPrice><zestimate><amount currency=\"USD\"></amount><last-updated>01/01/1970</last-updated><oneWeekChange deprecated=\"true\"></oneWeekChange><valueChange></valueChange><valuationRange><low currency=\"USD\"></low><high currency=\"USD\"></high></valuationRange><percentile>0</percentile></zestimate><rentzestimate><amount currency=\"USD\">3650</amount><last-updated>11/28/2017</last-updated><oneWeekChange deprecated=\"true\"></oneWeekChange><valueChange duration=\"30\" currency=\"USD\">-225</valueChange><valuationRange><low currency=\"USD\">2518</low><high currency=\"USD\">5293</high></valuationRange></rentzestimate><localRealEstate><region name=\"Upper East Side\" id=\"270957\" type=\"neighborhood\"><zindexValue>1,149,300</zindexValue><links><overview>http://www.zillow.com/local-info/NY-New-York/Upper-East-Side/r_270957/</overview><forSaleByOwner>http://www.zillow.com/upper-east-side-manhattan-new-york-ny/fsbo/</forSaleByOwner><forSale>http://www.zillow.com/upper-east-side-manhattan-new-york-ny/</forSale></links></region></localRealEstate></result><result><zpid>111033475</zpid><links><homedetails>https://www.zillow.com/homedetails/220-E-73rd-St-New-York-NY-10021/111033475_zpid/</homedetails><graphsanddata>http://www.zillow.com/homedetails/220-E-73rd-St-New-York-NY-10021/111033475_zpid/#charts-and-data</graphsanddata><mapthishome>http://www.zillow.com/homes/111033475_zpid/</mapthishome><comparables>http://www.zillow.com/homes/comps/111033475_zpid/</comparables></links><address><street>220 E 73rd St</street><zipcode>10021</zipcode><city>New York</city><state>NY</state><latitude>40.769725</latitude><longitude>-73.959014</longitude></address><FIPScounty>36061</FIPScounty><useCode>Cooperative</useCode><lastSoldDate>07/22/2011</lastSoldDate><lastSoldPrice currency=\"USD\">763687</lastSoldPrice><zestimate><amount currency=\"USD\"></amount><last-updated>01/01/1970</last-updated><oneWeekChange deprecated=\"true\"></oneWeekChange><valueChange></valueChange><valuationRange><low currency=\"USD\"></low><high currency=\"USD\"></high></valuationRange><percentile>0</percentile></zestimate><rentzestimate><amount currency=\"USD\">3650</amount><last-updated>11/28/2017</last-updated><oneWeekChange deprecated=\"true\"></oneWeekChange><valueChange duration=\"30\" currency=\"USD\">-219</valueChange><valuationRange><low currency=\"USD\">2518</low><high currency=\"USD\">5293</high></valuationRange></rentzestimate><localRealEstate><region name=\"Upper East Side\" id=\"270957\" type=\"neighborhood\"><zindexValue>1,149,300</zindexValue><links><overview>http://www.zillow.com/local-info/NY-New-York/Upper-East-Side/r_270957/</overview><forSaleByOwner>http://www.zillow.com/upper-east-side-manhattan-new-york-ny/fsbo/</forSaleByOwner><forSale>http://www.zillow.com/upper-east-side-manhattan-new-york-ny/</forSale></links></region></localRealEstate></result><result><zpid>116088008</zpid><links><homedetails>https://www.zillow.com/homedetails/220-E-73rd-St-New-York-NY-10021/116088008_zpid/</homedetails><graphsanddata>http://www.zillow.com/homedetails/220-E-73rd-St-New-York-NY-10021/116088008_zpid/#charts-and-data</graphsanddata><mapthishome>http://www.zillow.com/homes/116088008_zpid/</mapthishome><comparables>http://www.zillow.com/homes/comps/116088008_zpid/</comparables></links><address><street>220 E 73rd St</street><zipcode>10021</zipcode><city>New York</city><state>NY</state><latitude>40.769725</latitude><longitude>-73.959014</longitude></address><FIPScounty>36061</FIPScounty><useCode>Cooperative</useCode><lastSoldDate>11/28/2012</lastSoldDate><lastSoldPrice currency=\"USD\">13000</lastSoldPrice><zestimate><amount currency=\"USD\"></amount><last-updated>01/01/1970</last-updated><oneWeekChange deprecated=\"true\"></oneWeekChange><valueChange></valueChange><valuationRange><low currency=\"USD\"></low><high currency=\"USD\"></high></valuationRange><percentile>0</percentile></zestimate><rentzestimate><amount currency=\"USD\">3650</amount><last-updated>11/28/2017</last-updated><oneWeekChange deprecated=\"true\"></oneWeekChange><valueChange duration=\"30\" currency=\"USD\">-225</valueChange><valuationRange><low currency=\"USD\">2518</low><high currency=\"USD\">5293</high></valuationRange></rentzestimate><localRealEstate><region name=\"Upper East Side\" id=\"270957\" type=\"neighborhood\"><zindexValue>1,149,300</zindexValue><links><overview>http://www.zillow.com/local-info/NY-New-York/Upper-East-Side/r_270957/</overview><forSaleByOwner>http://www.zillow.com/upper-east-side-manhattan-new-york-ny/fsbo/</forSaleByOwner><forSale>http://www.zillow.com/upper-east-side-manhattan-new-york-ny/</forSale></links></region></localRealEstate></result><result><zpid>121232317</zpid><links><homedetails>https://www.zillow.com/homedetails/220-E-73rd-St-New-York-NY-10021/121232317_zpid/</homedetails><graphsanddata>http://www.zillow.com/homedetails/220-E-73rd-St-New-York-NY-10021/121232317_zpid/#charts-and-data</graphsanddata><mapthishome>http://www.zillow.com/homes/121232317_zpid/</mapthishome><comparables>http://www.zillow.com/homes/comps/121232317_zpid/</comparables></links><address><street>220 E 73rd St</street><zipcode>10021</zipcode><city>New York</city><state>NY</state><latitude>40.769725</latitude><longitude>-73.959014</longitude></address><FIPScounty>36061</FIPScounty><useCode>Cooperative</useCode><lastSoldDate>04/21/2014</lastSoldDate><lastSoldPrice currency=\"USD\">3100000</lastSoldPrice><zestimate><amount currency=\"USD\"></amount><last-updated>01/01/1970</last-updated><oneWeekChange deprecated=\"true\"></oneWeekChange><valueChange></valueChange><valuationRange><low currency=\"USD\"></low><high currency=\"USD\"></high></valuationRange><percentile>0</percentile></zestimate><rentzestimate><amount currency=\"USD\">3645</amount><last-updated>11/28/2017</last-updated><oneWeekChange deprecated=\"true\"></oneWeekChange><valueChange duration=\"30\" currency=\"USD\">-202</valueChange><valuationRange><low currency=\"USD\">2515</low><high currency=\"USD\">4994</high></valuationRange></rentzestimate><localRealEstate><region name=\"Upper East Side\" id=\"270957\" type=\"neighborhood\"><zindexValue>1,149,300</zindexValue><links><overview>http://www.zillow.com/local-info/NY-New-York/Upper-East-Side/r_270957/</overview><forSaleByOwner>http://www.zillow.com/upper-east-side-manhattan-new-york-ny/fsbo/</forSaleByOwner><forSale>http://www.zillow.com/upper-east-side-manhattan-new-york-ny/</forSale></links></region></localRealEstate></result></results></response></SearchResults:searchresults><!-- H:007  T:114ms  S:5546  R:Wed Nov 29 21:06:18 PST 2017  B:5.0.50267.8-hotfix_2017-11-28.3ecc3df~hotfix-platform-for-2017-11-28.4b0f42f -->'"
      ]
     },
     "execution_count": 4,
     "metadata": {},
     "output_type": "execute_result"
    }
   ],
   "source": [
    "# see first X values \n",
    "result.text[100:]"
   ]
  },
  {
   "cell_type": "code",
   "execution_count": 5,
   "metadata": {},
   "outputs": [],
   "source": [
    "d = xmltodict.parse(result.text)"
   ]
  },
  {
   "cell_type": "code",
   "execution_count": 6,
   "metadata": {
    "collapsed": true
   },
   "outputs": [],
   "source": [
    "# correct place to parse for building address\n",
    "address = d['SearchResults:searchresults']['request']['address']"
   ]
  },
  {
   "cell_type": "code",
   "execution_count": 7,
   "metadata": {},
   "outputs": [
    {
     "name": "stdout",
     "output_type": "stream",
     "text": [
      "This apartment at 220 East 73rd Street has 2 bedrooms and 2.0 bathrooms\n"
     ]
    }
   ],
   "source": [
    "# results provides multiple listing for the same address. \n",
    "# Bedrooms are nested here\n",
    "\n",
    "bedrooms = d['SearchResults:searchresults']['response']['results']['result'][0]['bedrooms']\n",
    "bathrooms = d['SearchResults:searchresults']['response']['results']['result'][0]['bathrooms']\n",
    "\n",
    "print ('This apartment at {} has {} bedrooms and {} bathrooms'.format(address, bedrooms, bathrooms))                                                                                      "
   ]
  },
  {
   "cell_type": "code",
   "execution_count": 8,
   "metadata": {},
   "outputs": [
    {
     "name": "stdout",
     "output_type": "stream",
     "text": [
      "Sold on 07/22/2011 for 763687USD\n"
     ]
    }
   ],
   "source": [
    "# In each response, you can extract the date sold and price for each sale\n",
    "date_sold = d['SearchResults:searchresults']['response']['results']['result'][2]['lastSoldDate']\n",
    "price = d['SearchResults:searchresults']['response']['results']['result'][2]['lastSoldPrice']['#text']                                                                                      \n",
    "currency = d['SearchResults:searchresults']['response']['results']['result'][2]['lastSoldPrice']['@currency']\n",
    "\n",
    "print ('Sold on {} for {}{}'.format(date_sold,price,currency))                                                                                      "
   ]
  },
  {
   "cell_type": "code",
   "execution_count": 9,
   "metadata": {},
   "outputs": [
    {
     "data": {
      "text/plain": [
       "odict_keys(['zpid', 'links', 'address', 'FIPScounty', 'useCode', 'taxAssessmentYear', 'taxAssessment', 'yearBuilt', 'lotSizeSqFt', 'finishedSqFt', 'bathrooms', 'bedrooms', 'zestimate', 'rentzestimate', 'localRealEstate'])"
      ]
     },
     "execution_count": 9,
     "metadata": {},
     "output_type": "execute_result"
    }
   ],
   "source": [
    "# within each 'result,' the first position indcludes info about the unit (above)\n",
    "# each successive item is a record for each time its been sold, but doesn't seem to be for different units (just any unit at that address)\n",
    "d['SearchResults:searchresults']['response']['results']['result'][0].keys()"
   ]
  },
  {
   "cell_type": "code",
   "execution_count": 10,
   "metadata": {},
   "outputs": [],
   "source": [
    "# building type (ie cooperative, )\n",
    "building_type = d['SearchResults:searchresults']['response']['results']['result'][0]['useCode']\n",
    "\n",
    "# finished building sq ft - not at unit level\n",
    "building_sqft = d['SearchResults:searchresults']['response']['results']['result'][0]['finishedSqFt']\n",
    "\n",
    "# lot square feet - only one per result. also not at unit level\n",
    "lot_sqft = d['SearchResults:searchresults']['response']['results']['result'][0]['lotSizeSqFt']"
   ]
  },
  {
   "cell_type": "markdown",
   "metadata": {},
   "source": [
    "___"
   ]
  },
  {
   "cell_type": "code",
   "execution_count": 11,
   "metadata": {
    "collapsed": true
   },
   "outputs": [],
   "source": [
    "# do for other apt with unit\n",
    "params = {'zws-id': myAPI,\n",
    "         'address': '1735 York Ave',\n",
    "         'citystatezip': '10128',\n",
    "         'rentzestimate': 'True'}\n",
    "york = requests.get('http://www.zillow.com/webservice/GetDeepSearchResults.htm', params = params)\n"
   ]
  },
  {
   "cell_type": "code",
   "execution_count": 12,
   "metadata": {
    "collapsed": true
   },
   "outputs": [],
   "source": [
    "# testing another\n",
    "york = xmltodict.parse(york.text)"
   ]
  },
  {
   "cell_type": "code",
   "execution_count": 13,
   "metadata": {},
   "outputs": [],
   "source": [
    "# testing another apt in a dumb way\n",
    "address = york['SearchResults:searchresults']['request']['address']\n",
    "bedrooms = york['SearchResults:searchresults']['response']['results']['result'][0]['bedrooms']\n",
    "bathrooms = york['SearchResults:searchresults']['response']['results']['result'][0]['bathrooms']\n",
    "# date_sold = york['SearchResults:searchresults']['response']['results']['result'][2]['lastSoldDate']\n",
    "# price = york['SearchResults:searchresults']['response']['results']['result'][2]['lastSoldPrice']['#text']                                                                                      \n",
    "# currency = york['SearchResults:searchresults']['response']['results']['result'][2]['lastSoldPrice']['@currency']\n",
    "building_type = york['SearchResults:searchresults']['response']['results']['result'][0]['useCode']\n"
   ]
  },
  {
   "cell_type": "code",
   "execution_count": 14,
   "metadata": {},
   "outputs": [
    {
     "name": "stdout",
     "output_type": "stream",
     "text": [
      "This Yorkville MultiFamily2To4 at 1735 York Ave has 2 bedroom(s) and 2.0 bathroom(s)\n"
     ]
    }
   ],
   "source": [
    "print ('This Yorkville {} at {} has {} bedroom(s) and {} bathroom(s)'.format(building_type,address,bedrooms,bathrooms))                                                                                      "
   ]
  },
  {
   "cell_type": "markdown",
   "metadata": {},
   "source": [
    "___"
   ]
  },
  {
   "cell_type": "code",
   "execution_count": 15,
   "metadata": {
    "collapsed": true
   },
   "outputs": [],
   "source": [
    "# d = {'result': {'list': {'one_more_annoying_thing': ['a', 'b', 'c']}}}\n",
    "# # step 1 -- you should iteratively run the next few lines to see the outputs come up\n",
    "# # as you go\n",
    "# d.keys()\n",
    "# # ok, \"result\" is some key we can just skip through\n",
    "\n",
    "# # so then we just filter in to \"result\" and look at the keys of that dict\n",
    "# d[\"result\"].keys()\n",
    "# # and after running this one, we see 'list' so let's just keep filtering down\n",
    "# d[\"result\"][\"list\"].keys()\n",
    "\n",
    "# # and again...\n",
    "# d[\"result\"][\"list\"][\"one_more_annoying_thing\"].keys()\n",
    "# #aha! this line raises an exception about a \"list\" not having \"keys\"\n",
    "# # so we know we've found a list that we probably care about\n",
    "# # in your case, this may be a string object instead of a list, depending\n",
    "# # on the output format\n",
    "\n",
    "# # after running this, \n",
    "# filtered = d[\"result\"][\"list\"][\"one_more_annoying_thing\"]\n",
    "# a = filtered[0]\n",
    "# b = filtered[1]"
   ]
  }
 ],
 "metadata": {
  "kernelspec": {
   "display_name": "Python 3",
   "language": "python",
   "name": "python3"
  },
  "language_info": {
   "codemirror_mode": {
    "name": "ipython",
    "version": 3
   },
   "file_extension": ".py",
   "mimetype": "text/x-python",
   "name": "python",
   "nbconvert_exporter": "python",
   "pygments_lexer": "ipython3",
   "version": "3.6.3"
  }
 },
 "nbformat": 4,
 "nbformat_minor": 2
}
