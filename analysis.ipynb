{
 "cells": [
  {
   "cell_type": "code",
   "execution_count": 1,
   "metadata": {
    "collapsed": false
   },
   "outputs": [
    {
     "name": "stdout",
     "output_type": "stream",
     "text": [
      "Populating the interactive namespace from numpy and matplotlib\n"
     ]
    },
    {
     "name": "stderr",
     "output_type": "stream",
     "text": [
      "/opt/conda/lib/python2.7/site-packages/IPython/core/magics/pylab.py:161: UserWarning: pylab import has clobbered these variables: ['plt']\n",
      "`%matplotlib` prevents importing * from pylab and numpy\n",
      "  \"\\n`%matplotlib` prevents importing * from pylab and numpy\"\n"
     ]
    }
   ],
   "source": [
    "import glob\n",
    "import pandas as pd\n",
    "import numpy as np\n",
    "import sys\n",
    "import operator\n",
    "import numpy as np\n",
    "from scipy import stats\n",
    "import requests\n",
    "from IPython.display import HTML\n",
    "import matplotlib.pylab as plt\n",
    "import warnings\n",
    "import geopandas as gpd\n",
    "from fiona.crs import from_epsg\n",
    "\n",
    "%pylab inline\n",
    "pd.options.display.max_columns = None"
   ]
  },
  {
   "cell_type": "code",
   "execution_count": null,
   "metadata": {
    "collapsed": false
   },
   "outputs": [],
   "source": [
    "## COMMANDS TO DOWNLOAD STUFF\n",
    "\n",
    "#!wget -nc -O data/2016_manhattan.xls http://www1.nyc.gov/assets/finance/downloads/pdf/rolling_sales/annualized-sales/2016/2016_manhattan.xls\n",
    "#!wget -nc -O data/2015_manhattan.xls http://www1.nyc.gov/assets/finance/downloads/pdf/rolling_sales/annualized-sales/2015/2015_manhattan.xls\n",
    "#!wget -nc -O data/2014_manhattan.xls http://www1.nyc.gov/assets/finance/downloads/pdf/rolling_sales/annualized-sales/2014/2014_manhattan.xls\n",
    "# !wget -nc -O data/2013_manhattan.xls http://www1.nyc.gov/assets/finance/downloads/pdf/rolling_sales/annualized-sales/2013/2013_manhattan.xls\n",
    "# !wget -nc -O data/2012_manhattan.xls http://www1.nyc.gov/assets/finance/downloads/pdf/rolling_sales/annualized-sales/2012/2012_manhattan.xls\n",
    "# !wget -nc -O data/2011_manhattan.xls http://www1.nyc.gov/assets/finance/downloads/pdf/rolling_sales/annualized-sales/2011/2011_manhattan.xls\n",
    "# !wget -nc -O data/2010_manhattan.xls http://www1.nyc.gov/assets/finance/downloads/pdf/rolling_sales/annualized-sales/2010/2010_manhattan.xls\n",
    "# !wget -nc -O data/2009_manhattan.xls http://www1.nyc.gov/assets/finance/downloads/pdf/rolling_sales/annualized-sales/2009_manhattan.xls\n",
    "# !wget -nc -O data/2008_manhattan.xls http://www1.nyc.gov/assets/finance/downloads/pdf/09pdf/rolling_sales/sales_2008_manhattan.xls"
   ]
  },
  {
   "cell_type": "code",
   "execution_count": 14,
   "metadata": {
    "collapsed": false
   },
   "outputs": [
    {
     "data": {
      "text/html": [
       "<div>\n",
       "<style scoped>\n",
       "    .dataframe tbody tr th:only-of-type {\n",
       "        vertical-align: middle;\n",
       "    }\n",
       "\n",
       "    .dataframe tbody tr th {\n",
       "        vertical-align: top;\n",
       "    }\n",
       "\n",
       "    .dataframe thead th {\n",
       "        text-align: right;\n",
       "    }\n",
       "</style>\n",
       "<table border=\"1\" class=\"dataframe\">\n",
       "  <thead>\n",
       "    <tr style=\"text-align: right;\">\n",
       "      <th></th>\n",
       "      <th>BOROUGH</th>\n",
       "      <th>NEIGHBORHOOD</th>\n",
       "      <th>BUILDING_CLASS_CATEGORY</th>\n",
       "      <th>TAX_CLASS_AT_PRESENT</th>\n",
       "      <th>BLOCK</th>\n",
       "      <th>LOT</th>\n",
       "      <th>EASE-MENT</th>\n",
       "      <th>BUILDING_CLASS_AT_PRESENT</th>\n",
       "      <th>ADDRESS</th>\n",
       "      <th>APARTMENT_NUMBER</th>\n",
       "      <th>ZIP_CODE</th>\n",
       "      <th>RESIDENTIAL_UNITS</th>\n",
       "      <th>COMMERCIAL_UNITS</th>\n",
       "      <th>TOTAL_UNITS</th>\n",
       "      <th>LAND_SQUARE_FEET</th>\n",
       "      <th>GROSS_SQUARE_FEET</th>\n",
       "      <th>YEAR_BUILT</th>\n",
       "      <th>TAX_CLASS_AT_TIME_OF_SALE</th>\n",
       "      <th>BUILDING_CLASS_AT_TIME_OF_SALE</th>\n",
       "      <th>SALE_PRICE</th>\n",
       "      <th>SALE_DATE</th>\n",
       "    </tr>\n",
       "  </thead>\n",
       "  <tbody>\n",
       "    <tr>\n",
       "      <th>0</th>\n",
       "      <td>1</td>\n",
       "      <td>ALPHABET CITY</td>\n",
       "      <td>01  ONE FAMILY HOMES</td>\n",
       "      <td>1</td>\n",
       "      <td>402</td>\n",
       "      <td>42</td>\n",
       "      <td></td>\n",
       "      <td>S1</td>\n",
       "      <td>96 AVENUE B</td>\n",
       "      <td></td>\n",
       "      <td>10009</td>\n",
       "      <td>1</td>\n",
       "      <td>1</td>\n",
       "      <td>2</td>\n",
       "      <td>1400</td>\n",
       "      <td>1839</td>\n",
       "      <td>1901</td>\n",
       "      <td>1</td>\n",
       "      <td>S1</td>\n",
       "      <td>20000</td>\n",
       "      <td>2008-12-04</td>\n",
       "    </tr>\n",
       "    <tr>\n",
       "      <th>1</th>\n",
       "      <td>1</td>\n",
       "      <td>ALPHABET CITY</td>\n",
       "      <td>01  ONE FAMILY HOMES</td>\n",
       "      <td>1</td>\n",
       "      <td>402</td>\n",
       "      <td>42</td>\n",
       "      <td></td>\n",
       "      <td>S1</td>\n",
       "      <td>96 AVENUE B</td>\n",
       "      <td></td>\n",
       "      <td>10009</td>\n",
       "      <td>1</td>\n",
       "      <td>1</td>\n",
       "      <td>2</td>\n",
       "      <td>1400</td>\n",
       "      <td>1839</td>\n",
       "      <td>1901</td>\n",
       "      <td>1</td>\n",
       "      <td>S1</td>\n",
       "      <td>20000</td>\n",
       "      <td>2008-12-03</td>\n",
       "    </tr>\n",
       "    <tr>\n",
       "      <th>2</th>\n",
       "      <td>1</td>\n",
       "      <td>ALPHABET CITY</td>\n",
       "      <td>01  ONE FAMILY HOMES</td>\n",
       "      <td>1</td>\n",
       "      <td>402</td>\n",
       "      <td>42</td>\n",
       "      <td></td>\n",
       "      <td>S1</td>\n",
       "      <td>96 AVENUE B</td>\n",
       "      <td></td>\n",
       "      <td>10009</td>\n",
       "      <td>1</td>\n",
       "      <td>1</td>\n",
       "      <td>2</td>\n",
       "      <td>1400</td>\n",
       "      <td>1839</td>\n",
       "      <td>1901</td>\n",
       "      <td>1</td>\n",
       "      <td>S1</td>\n",
       "      <td>20000</td>\n",
       "      <td>2008-11-25</td>\n",
       "    </tr>\n",
       "    <tr>\n",
       "      <th>3</th>\n",
       "      <td>1</td>\n",
       "      <td>ALPHABET CITY</td>\n",
       "      <td>03  THREE FAMILY HOMES</td>\n",
       "      <td>1</td>\n",
       "      <td>377</td>\n",
       "      <td>66</td>\n",
       "      <td></td>\n",
       "      <td>C0</td>\n",
       "      <td>243 EAST 7TH   STREET</td>\n",
       "      <td></td>\n",
       "      <td>10009</td>\n",
       "      <td>3</td>\n",
       "      <td>0</td>\n",
       "      <td>3</td>\n",
       "      <td>2381</td>\n",
       "      <td>3084</td>\n",
       "      <td>1899</td>\n",
       "      <td>1</td>\n",
       "      <td>C0</td>\n",
       "      <td>3350000</td>\n",
       "      <td>2008-08-26</td>\n",
       "    </tr>\n",
       "    <tr>\n",
       "      <th>4</th>\n",
       "      <td>1</td>\n",
       "      <td>ALPHABET CITY</td>\n",
       "      <td>03  THREE FAMILY HOMES</td>\n",
       "      <td>1</td>\n",
       "      <td>389</td>\n",
       "      <td>29</td>\n",
       "      <td></td>\n",
       "      <td>A5</td>\n",
       "      <td>222 EAST 7TH   STREET</td>\n",
       "      <td></td>\n",
       "      <td>10009</td>\n",
       "      <td>1</td>\n",
       "      <td>0</td>\n",
       "      <td>1</td>\n",
       "      <td>2272</td>\n",
       "      <td>5516</td>\n",
       "      <td>1901</td>\n",
       "      <td>1</td>\n",
       "      <td>C0</td>\n",
       "      <td>3200000</td>\n",
       "      <td>2008-09-18</td>\n",
       "    </tr>\n",
       "  </tbody>\n",
       "</table>\n",
       "</div>"
      ],
      "text/plain": [
       "   BOROUGH               NEIGHBORHOOD  \\\n",
       "0        1  ALPHABET CITY               \n",
       "1        1  ALPHABET CITY               \n",
       "2        1  ALPHABET CITY               \n",
       "3        1  ALPHABET CITY               \n",
       "4        1  ALPHABET CITY               \n",
       "\n",
       "                        BUILDING_CLASS_CATEGORY TAX_CLASS_AT_PRESENT  BLOCK  \\\n",
       "0  01  ONE FAMILY HOMES                                            1    402   \n",
       "1  01  ONE FAMILY HOMES                                            1    402   \n",
       "2  01  ONE FAMILY HOMES                                            1    402   \n",
       "3  03  THREE FAMILY HOMES                                          1    377   \n",
       "4  03  THREE FAMILY HOMES                                          1    389   \n",
       "\n",
       "   LOT EASE-MENT BUILDING_CLASS_AT_PRESENT  \\\n",
       "0   42                                  S1   \n",
       "1   42                                  S1   \n",
       "2   42                                  S1   \n",
       "3   66                                  C0   \n",
       "4   29                                  A5   \n",
       "\n",
       "                                     ADDRESS APARTMENT_NUMBER  ZIP_CODE  \\\n",
       "0  96 AVENUE B                                                    10009   \n",
       "1  96 AVENUE B                                                    10009   \n",
       "2  96 AVENUE B                                                    10009   \n",
       "3  243 EAST 7TH   STREET                                          10009   \n",
       "4  222 EAST 7TH   STREET                                          10009   \n",
       "\n",
       "   RESIDENTIAL_UNITS  COMMERCIAL_UNITS  TOTAL_UNITS  LAND_SQUARE_FEET  \\\n",
       "0                  1                 1            2              1400   \n",
       "1                  1                 1            2              1400   \n",
       "2                  1                 1            2              1400   \n",
       "3                  3                 0            3              2381   \n",
       "4                  1                 0            1              2272   \n",
       "\n",
       "   GROSS_SQUARE_FEET  YEAR_BUILT  TAX_CLASS_AT_TIME_OF_SALE  \\\n",
       "0               1839        1901                          1   \n",
       "1               1839        1901                          1   \n",
       "2               1839        1901                          1   \n",
       "3               3084        1899                          1   \n",
       "4               5516        1901                          1   \n",
       "\n",
       "  BUILDING_CLASS_AT_TIME_OF_SALE  SALE_PRICE  SALE_DATE  \n",
       "0                             S1       20000 2008-12-04  \n",
       "1                             S1       20000 2008-12-03  \n",
       "2                             S1       20000 2008-11-25  \n",
       "3                             C0     3350000 2008-08-26  \n",
       "4                             C0     3200000 2008-09-18  "
      ]
     },
     "execution_count": 14,
     "metadata": {},
     "output_type": "execute_result"
    }
   ],
   "source": [
    "q.head()"
   ]
  },
  {
   "cell_type": "code",
   "execution_count": 13,
   "metadata": {
    "collapsed": false,
    "scrolled": true
   },
   "outputs": [],
   "source": [
    "# w r a n g l e + load\n",
    "poi_pluto = gpd.GeoDataFrame(gpd.read_file(\"PLUTO/area_of_interest5.shp\"))\n",
    "\n",
    "files = glob.glob(\"data/*.xls\")\n",
    "q = None\n",
    "dfs = [pd.read_excel(f, skiprows=(4 if '2008' not in f and '2009' not in f and '2010' not in f else 3)) for f in files]\n",
    "for f, df in zip(files, dfs):\n",
    "    if '2008' in f:\n",
    "        q = df\n",
    "    df.columns = [\"_\".join(x.strip().split(\" \")) for x in df.columns]\n",
    "\n",
    "manhattan_sales = pd.concat(dfs)\n",
    "merged = manhattan_sales.merge(poi_pluto, left_on=[\"BLOCK\", \"LOT\"], right_on=[\"Block\", \"Lot\"])\n",
    "merged[\"SALE_MONTH\"] = merged[\"SALE_DATE\"].apply(lambda x: str(x.year) + \"-\" + str(x.month))\n",
    "l = list(merged.columns)\n",
    "l.remove(\"geometry\")\n",
    "merged = merged.drop_duplicates(subset=l)\n",
    "merged = merged[merged[\"SALE_PRICE\"] > 1]\n",
    "merged[\"APT\"] = merged[\"ADDRESS\"].str.split(\",\").apply(lambda x: x[1].strip() if len(x) > 1 else \"\")\n",
    "def dude(x):\n",
    "    return x[\"APARTMENT_NUMBER\"].strip() if x[\"APARTMENT_NUMBER\"].strip() else x[\"APT\"]\n",
    "\n",
    "merged[\"APARTMENT_NUMBER\"] = merged[\"APARTMENT_NUMBER\"].astype(str)\n",
    "merged[\"APT_2\"] = merged[[\"APT\", \"APARTMENT_NUMBER\"]].apply(dude, axis=1)\n",
    "merged[\"APT\"] = merged[\"APT_2\"]\n",
    "merged = merged[merged[\"YearBuilt\"] > 0].reset_index(drop=True)\n",
    "df = merged\n",
    "\n",
    "df[\"address_apt\"] = df[\"Address\"].apply(lambda x: x.strip() + \" # \") + df[\"APT\"]\n",
    "# filter out things that arent apartments\n",
    "df = df[df[\"APT\"] != ''].reset_index(drop=True)\n",
    "df[\"log_price\"] = np.log(df[\"SALE_PRICE\"])\n",
    "df = df[df[\"log_price\"] > 5].reset_index(drop=True) # 100k"
   ]
  },
  {
   "cell_type": "code",
   "execution_count": 21,
   "metadata": {
    "collapsed": false
   },
   "outputs": [
    {
     "data": {
      "text/plain": [
       "array([2008, 2009, 2010, 2011, 2012, 2013, 2014, 2015, 2016, 2017])"
      ]
     },
     "execution_count": 21,
     "metadata": {},
     "output_type": "execute_result"
    }
   ],
   "source": [
    "np.sort(df[\"SALE_DATE\"].apply(lambda x: x.year).unique())"
   ]
  },
  {
   "cell_type": "code",
   "execution_count": null,
   "metadata": {
    "collapsed": false
   },
   "outputs": [],
   "source": [
    "two_or_more_sales.groupby([\"Address\", \"APT\"]).size().describe()"
   ]
  },
  {
   "cell_type": "markdown",
   "metadata": {},
   "source": [
    "### Regressions with basic variables"
   ]
  },
  {
   "cell_type": "code",
   "execution_count": 23,
   "metadata": {
    "collapsed": false,
    "scrolled": true
   },
   "outputs": [
    {
     "name": "stdout",
     "output_type": "stream",
     "text": [
      "0.241089688206\n",
      "0.164255260952\n",
      "0.00105770947956\n",
      "-0.116288358826\n"
     ]
    },
    {
     "data": {
      "text/html": [
       "<table class=\"simpletable\">\n",
       "<caption>OLS Regression Results</caption>\n",
       "<tr>\n",
       "  <th>Dep. Variable:</th>        <td>log_price</td>    <th>  R-squared:         </th> <td>   0.014</td> \n",
       "</tr>\n",
       "<tr>\n",
       "  <th>Model:</th>                   <td>OLS</td>       <th>  Adj. R-squared:    </th> <td>   0.014</td> \n",
       "</tr>\n",
       "<tr>\n",
       "  <th>Method:</th>             <td>Least Squares</td>  <th>  F-statistic:       </th> <td>   78.93</td> \n",
       "</tr>\n",
       "<tr>\n",
       "  <th>Date:</th>             <td>Thu, 07 Dec 2017</td> <th>  Prob (F-statistic):</th> <td>1.10e-50</td> \n",
       "</tr>\n",
       "<tr>\n",
       "  <th>Time:</th>                 <td>15:33:01</td>     <th>  Log-Likelihood:    </th> <td> -22974.</td> \n",
       "</tr>\n",
       "<tr>\n",
       "  <th>No. Observations:</th>      <td> 16301</td>      <th>  AIC:               </th> <td>4.596e+04</td>\n",
       "</tr>\n",
       "<tr>\n",
       "  <th>Df Residuals:</th>          <td> 16297</td>      <th>  BIC:               </th> <td>4.599e+04</td>\n",
       "</tr>\n",
       "<tr>\n",
       "  <th>Df Model:</th>              <td>     3</td>      <th>                     </th>     <td> </td>    \n",
       "</tr>\n",
       "<tr>\n",
       "  <th>Covariance Type:</th>      <td>nonrobust</td>    <th>                     </th>     <td> </td>    \n",
       "</tr>\n",
       "</table>\n",
       "<table class=\"simpletable\">\n",
       "<tr>\n",
       "          <td></td>             <th>coef</th>     <th>std err</th>      <th>t</th>      <th>P>|t|</th>  <th>[0.025</th>    <th>0.975]</th>  \n",
       "</tr>\n",
       "<tr>\n",
       "  <th>Intercept</th>         <td>   13.8013</td> <td>    0.009</td> <td> 1610.582</td> <td> 0.000</td> <td>   13.785</td> <td>   13.818</td>\n",
       "</tr>\n",
       "<tr>\n",
       "  <th>treatment</th>         <td>   -0.3886</td> <td>    0.026</td> <td>  -14.964</td> <td> 0.000</td> <td>   -0.439</td> <td>   -0.338</td>\n",
       "</tr>\n",
       "<tr>\n",
       "  <th>after</th>             <td>    0.0644</td> <td>    0.030</td> <td>    2.127</td> <td> 0.033</td> <td>    0.005</td> <td>    0.124</td>\n",
       "</tr>\n",
       "<tr>\n",
       "  <th>treatment_x_after</th> <td>    0.2411</td> <td>    0.093</td> <td>    2.603</td> <td> 0.009</td> <td>    0.060</td> <td>    0.423</td>\n",
       "</tr>\n",
       "</table>\n",
       "<table class=\"simpletable\">\n",
       "<tr>\n",
       "  <th>Omnibus:</th>       <td>808.463</td> <th>  Durbin-Watson:     </th> <td>   0.953</td>\n",
       "</tr>\n",
       "<tr>\n",
       "  <th>Prob(Omnibus):</th> <td> 0.000</td>  <th>  Jarque-Bera (JB):  </th> <td>2227.443</td>\n",
       "</tr>\n",
       "<tr>\n",
       "  <th>Skew:</th>          <td> 0.249</td>  <th>  Prob(JB):          </th> <td>    0.00</td>\n",
       "</tr>\n",
       "<tr>\n",
       "  <th>Kurtosis:</th>      <td> 4.741</td>  <th>  Cond. No.          </th> <td>    12.2</td>\n",
       "</tr>\n",
       "</table>"
      ],
      "text/plain": [
       "<class 'statsmodels.iolib.summary.Summary'>\n",
       "\"\"\"\n",
       "                            OLS Regression Results                            \n",
       "==============================================================================\n",
       "Dep. Variable:              log_price   R-squared:                       0.014\n",
       "Model:                            OLS   Adj. R-squared:                  0.014\n",
       "Method:                 Least Squares   F-statistic:                     78.93\n",
       "Date:                Thu, 07 Dec 2017   Prob (F-statistic):           1.10e-50\n",
       "Time:                        15:33:01   Log-Likelihood:                -22974.\n",
       "No. Observations:               16301   AIC:                         4.596e+04\n",
       "Df Residuals:                   16297   BIC:                         4.599e+04\n",
       "Df Model:                           3                                         \n",
       "Covariance Type:            nonrobust                                         \n",
       "=====================================================================================\n",
       "                        coef    std err          t      P>|t|      [0.025      0.975]\n",
       "-------------------------------------------------------------------------------------\n",
       "Intercept            13.8013      0.009   1610.582      0.000      13.785      13.818\n",
       "treatment            -0.3886      0.026    -14.964      0.000      -0.439      -0.338\n",
       "after                 0.0644      0.030      2.127      0.033       0.005       0.124\n",
       "treatment_x_after     0.2411      0.093      2.603      0.009       0.060       0.423\n",
       "==============================================================================\n",
       "Omnibus:                      808.463   Durbin-Watson:                   0.953\n",
       "Prob(Omnibus):                  0.000   Jarque-Bera (JB):             2227.443\n",
       "Skew:                           0.249   Prob(JB):                         0.00\n",
       "Kurtosis:                       4.741   Cond. No.                         12.2\n",
       "==============================================================================\n",
       "\n",
       "Warnings:\n",
       "[1] Standard Errors assume that the covariance matrix of the errors is correctly specified.\n",
       "\"\"\""
      ]
     },
     "execution_count": 23,
     "metadata": {},
     "output_type": "execute_result"
    },
    {
     "data": {
      "image/png": "[encoded data removed]",
      "text/plain": [
       "<matplotlib.figure.Figure at 0x7fa8857e3210>"
      ]
     },
     "metadata": {},
     "output_type": "display_data"
    }
   ],
   "source": [
    "from datetime import datetime\n",
    "cutoff = datetime(2017, 1, 1)\n",
    "\n",
    "# make our features\n",
    "\n",
    "# treatment and before / after\n",
    "df[\"treatment\"] = (df[\"distance\"] < 200).astype(np.int)\n",
    "df[\"after\"] = (df[\"SALE_DATE\"] >= cutoff).astype(np.int)\n",
    "df[\"treatment_x_after\"] = df[\"treatment\"] * df[\"after\"]\n",
    "\n",
    "\n",
    "df[\"prewar\"] = (df[\"YearBuilt\"] < 1950).astype(np.int)\n",
    "df[\"postwar\"] = (df[\"YearBuilt\"] >= 1950).astype(np.int)\n",
    "df[\"new\"] = (df[\"YearBuilt\"] >= 2000).astype(np.int)\n",
    "year_cols = \"prewar + postwar + new\"\n",
    "\n",
    "two_or_more_sales = df.groupby([\"Address\", \"APT\"]).filter(lambda x: len(x) > 1)\n",
    "only_before_after = two_or_more_sales.groupby([\"ADDRESS\", \"APT\"]).filter(lambda x: x.SALE_DATE.min() < cutoff\\\n",
    "                                                               and x.SALE_DATE.max() >= cutoff)\n",
    "\n",
    "import bedrooms as br\n",
    "reload(br)\n",
    "with_br = only_before_after.merge(br.br, left_on=\"address_apt\", right_on='addy')\n",
    "\n",
    "import statsmodels.formula.api as smf\n",
    "\n",
    "\n",
    "basic_formula = \"log_price ~ treatment + after + treatment_x_after\"\n",
    "reg_all = smf.ols(basic_formula, data=df).fit()\n",
    "reg_two = smf.ols(basic_formula, data=two_or_more_sales).fit()\n",
    "reg_only = smf.ols(basic_formula, data=only_before_after).fit()\n",
    "reg_br = smf.ols(basic_formula + \" + bedrooms\", data=with_br).fit()\n",
    "\n",
    "print reg_all.params['treatment_x_after']\n",
    "print reg_two.params['treatment_x_after']\n",
    "print reg_only.params['treatment_x_after']\n",
    "print reg_br.params['treatment_x_after']\n",
    "\n",
    "fig = plt.figure(figsize=(16, 9))\n",
    "\n",
    "median_treatment = df[df[\"treatment\"] == 1].groupby(\"SALE_MONTH\").median()[\"SALE_PRICE\"]\n",
    "median_control = df[df[\"treatment\"] == 0].groupby(\"SALE_MONTH\").median()[\"SALE_PRICE\"]\n",
    "median_treatment.index = median_treatment.index.map(lambda x: pd.to_datetime(x))\n",
    "median_control.index = median_control.index.map(lambda x: pd.to_datetime(x))\n",
    "\n",
    "ax = median_treatment.plot(figsize=(16, 9), label=\"treatment\")\n",
    "median_control.plot(ax=ax, label=\"control\")\n",
    "ax.legend()\n",
    "ax.set_title(\"Median price by month, with <200m as treatment zone\")\n",
    "reg_all.summary()"
   ]
  },
  {
   "cell_type": "markdown",
   "metadata": {},
   "source": [
    "### Regressions with east of second avenue"
   ]
  },
  {
   "cell_type": "code",
   "execution_count": null,
   "metadata": {
    "collapsed": true
   },
   "outputs": [],
   "source": [
    "font = {'family' : 'normal',\n",
    "        'weight' : 'bold',\n",
    "        'size'   : 22}\n",
    "\n",
    "matplotlib.rc('font', **font)\n"
   ]
  },
  {
   "cell_type": "code",
   "execution_count": null,
   "metadata": {
    "collapsed": false,
    "scrolled": false
   },
   "outputs": [],
   "source": [
    "from datetime import datetime\n",
    "cutoff = datetime(2017, 1, 1)\n",
    "\n",
    "# make our features\n",
    "\n",
    "# treatment and before / after\n",
    "df[\"treatment\"] = df[\"east_or__1\"]\n",
    "df[\"after\"] = (df[\"SALE_DATE\"] >= cutoff).astype(np.int)\n",
    "df[\"treatment_x_after\"] = df[\"treatment\"] * df[\"after\"]\n",
    "\n",
    "\n",
    "df[\"prewar\"] = (df[\"YearBuilt\"] < 1950).astype(np.int)\n",
    "df[\"postwar\"] = (df[\"YearBuilt\"] >= 1950).astype(np.int)\n",
    "df[\"new\"] = (df[\"YearBuilt\"] >= 2000).astype(np.int)\n",
    "year_cols = \"prewar + postwar + new\"\n",
    "\n",
    "two_or_more_sales = df.groupby([\"Address\", \"APT\"]).filter(lambda x: len(x) > 1)\n",
    "only_before_after = two_or_more_sales.groupby([\"ADDRESS\", \"APT\"]).filter(lambda x: x.SALE_DATE.min() < cutoff\\\n",
    "                                                               and x.SALE_DATE.max() >= cutoff)\n",
    "\n",
    "import bedrooms as br\n",
    "reload(br)\n",
    "with_br = only_before_after.merge(br.br, left_on=\"address_apt\", right_on='addy')\n",
    "\n",
    "import statsmodels.formula.api as smf\n",
    "\n",
    "\n",
    "basic_formula = \"log_price ~ treatment + after + treatment_x_after\"\n",
    "reg_all = smf.ols(basic_formula, data=df).fit()\n",
    "reg_two = smf.ols(basic_formula, data=two_or_more_sales).fit()\n",
    "reg_only = smf.ols(basic_formula, data=only_before_after).fit()\n",
    "reg_br = smf.ols(basic_formula + \" + bedrooms\", data=with_br).fit()\n",
    "\n",
    "print reg_all.params['treatment_x_after']\n",
    "print reg_two.params['treatment_x_after']\n",
    "print reg_only.params['treatment_x_after']\n",
    "print reg_br.params['treatment_x_after']\n",
    "\n",
    "fig = plt.figure(figsize=(16, 9))\n",
    "\n",
    "median_treatment = df[df[\"treatment\"] == 1].groupby(\"SALE_MONTH\").median()[\"SALE_PRICE\"]\n",
    "median_control = df[df[\"treatment\"] == 0].groupby(\"SALE_MONTH\").median()[\"SALE_PRICE\"]\n",
    "median_treatment.index = median_treatment.index.map(lambda x: pd.to_datetime(x))\n",
    "median_control.index = median_control.index.map(lambda x: pd.to_datetime(x))\n",
    "\n",
    "ax = median_treatment.plot(figsize=(16, 9), label=\"treatment\", linewidth=4, )\n",
    "median_control.plot(ax=ax, label=\"control\", linewidth=4)\n",
    "ax.axvline(cutoff, color='r', linestyle='--', linewidth=4, label=\"SAS Opening\")\n",
    "ax.set_title(\"Median price by month, with east of 2nd avenue as treatment zone\")\n",
    "ax.set_ylabel(\"Sale Price ($$$)\")\n",
    "ax.set_xlabel(\"Sale Month\")"
   ]
  },
  {
   "cell_type": "markdown",
   "metadata": {},
   "source": [
    "## Check out some anticipation effects"
   ]
  },
  {
   "cell_type": "code",
   "execution_count": null,
   "metadata": {
    "collapsed": false
   },
   "outputs": [],
   "source": [
    "from datetime import datetime, timedelta\n",
    "opening = datetime(2017, 1, 1)\n",
    "anti_6mo = opening - timedelta(days=182)\n",
    "print anti_6mo\n",
    "anti_1yr = opening - timedelta(days=365)\n",
    "# make our features\n",
    "\n",
    "# treatment and before / after\n",
    "df[\"treatment\"] = df[\"east_or__1\"]\n",
    "df[\"after_op\"] = (df[\"SALE_DATE\"] >= cutoff).astype(np.int)\n",
    "df[\"at_6mo\"] = (df[\"SALE_DATE\"] >= anti_6mo).astype(np.int)\n",
    "df[\"at_1yr\"] = (df[\"SALE_DATE\"] >= anti_1yr).astype(np.int)\n",
    "\n",
    "df[\"treatment_x_after_op\"] = df[\"treatment\"] * df[\"after\"]\n",
    "df[\"treatment_x_after_6mo\"] = df[\"treatment\"] * df[\"at_6mo\"]\n",
    "df[\"treatment_x_after_1yr\"] = df[\"treatment\"] * df[\"at_1yr\"]\n",
    "\n",
    "year_cols = \"prewar + postwar + new\"\n",
    "\n",
    "two_or_more_sales = df.groupby([\"Address\", \"APT\"]).filter(lambda x: len(x) > 1)\n",
    "only_before_after = two_or_more_sales.groupby([\"ADDRESS\", \"APT\"]).filter(lambda x: x.SALE_DATE.min() < cutoff\\\n",
    "                                                               and x.SALE_DATE.max() >= cutoff)\n",
    "\n",
    "import bedrooms as br\n",
    "reload(br)\n",
    "with_br = only_before_after.merge(br.br, left_on=\"address_apt\", right_on='addy')\n",
    "\n",
    "import statsmodels.formula.api as smf\n",
    "\n",
    "\n",
    "basic_formula = \"log_price ~ treatment\"\n",
    "formula_6mo = basic_formula + \" + at_6mo + treatment_x_after_6mo\"\n",
    "formula_1yr = basic_formula + \" + at_1yr + treatment_x_after_1yr\"\n",
    "formula_6mo_time_of = formula_6mo + \" + after_op + treatment_x_after_op\"\n",
    "reg_br_6mo_only = smf.ols(formula_6mo + \" + bedrooms\", data=with_br).fit()\n",
    "reg_br_1yr_only = smf.ols(formula_1yr + \" + bedrooms\", data=with_br).fit()\n",
    "reg_br_6mo_1yr = smf.ols(formula_6mo_time_of + \" + bedrooms\", data=with_br).fit()\n",
    "fig = plt.figure(figsize=(16, 9))\n",
    "\n",
    "median_treatment = two_or_more_sales[two_or_more_sales[\"treatment\"] == 1].groupby(\"SALE_MONTH\").median()[\"SALE_PRICE\"]\n",
    "median_control = two_or_more_sales[two_or_more_sales[\"treatment\"] == 0].groupby(\"SALE_MONTH\").median()[\"SALE_PRICE\"]\n",
    "median_treatment.index = median_treatment.index.map(lambda x: pd.to_datetime(x))\n",
    "median_control.index = median_control.index.map(lambda x: pd.to_datetime(x))"
   ]
  },
  {
   "cell_type": "code",
   "execution_count": null,
   "metadata": {
    "collapsed": false
   },
   "outputs": [],
   "source": [
    "reg_br_1yr_only.summary()"
   ]
  },
  {
   "cell_type": "code",
   "execution_count": null,
   "metadata": {
    "collapsed": false
   },
   "outputs": [],
   "source": [
    "reg_br_6mo_only.summary()"
   ]
  },
  {
   "cell_type": "code",
   "execution_count": null,
   "metadata": {
    "collapsed": false
   },
   "outputs": [],
   "source": [
    "reg_br_6mo_1yr.summary()"
   ]
  },
  {
   "cell_type": "code",
   "execution_count": null,
   "metadata": {
    "collapsed": true
   },
   "outputs": [],
   "source": []
  },
  {
   "cell_type": "markdown",
   "metadata": {},
   "source": [
    "## Make the plot of before / after prices at distance x distance"
   ]
  },
  {
   "cell_type": "code",
   "execution_count": null,
   "metadata": {
    "collapsed": false,
    "scrolled": true
   },
   "outputs": [],
   "source": [
    "df[\"distance_100\"] = (df[\"distance\"] / 100).astype(np.int)\n",
    "ax = df[df[\"after_op\"] == 1].groupby(\"distance_100\").median()[\"SALE_PRICE\"].plot(label=\"after\", figsize=(16, 9), linewidth=4)\n",
    "ax = df[df[\"after_op\"] == 0].groupby(\"distance_100\").median()[\"SALE_PRICE\"].plot(ax=ax, label=\"before\", linewidth=4)\n",
    "ax.legend()\n",
    "ax.set_xlabel(\"distance (x 100m)\")\n",
    "ax.set_ylabel(\"sale price ($)\")\n",
    "ax.set_xlim(0, 6)\n",
    "ax.set_ylim(500000, 1000000)"
   ]
  },
  {
   "cell_type": "markdown",
   "metadata": {},
   "source": [
    "## Use Log Price\n",
    "\n",
    "It is more normal by tests."
   ]
  },
  {
   "cell_type": "code",
   "execution_count": null,
   "metadata": {
    "collapsed": false,
    "scrolled": true
   },
   "outputs": [],
   "source": [
    "ax = df[\"log_price\"].hist(figsize=(16, 9))\n",
    "ax.set_title(\"Log sale price of UES sales data for apartments\")\n",
    "ax.set_xlabel(\"Log sale price\")\n",
    "ax.set_ylabel(\"Count\")"
   ]
  },
  {
   "cell_type": "markdown",
   "metadata": {},
   "source": [
    "### LaTeX Formatting"
   ]
  },
  {
   "cell_type": "code",
   "execution_count": null,
   "metadata": {
    "collapsed": false
   },
   "outputs": [],
   "source": [
    "df.head(1)"
   ]
  },
  {
   "cell_type": "code",
   "execution_count": null,
   "metadata": {
    "collapsed": false
   },
   "outputs": [],
   "source": [
    "len(df)"
   ]
  },
  {
   "cell_type": "markdown",
   "metadata": {},
   "source": [
    "## General Descriptives"
   ]
  },
  {
   "cell_type": "code",
   "execution_count": null,
   "metadata": {
    "collapsed": true
   },
   "outputs": [],
   "source": [
    "old_format = pd.options.display.float_format\n",
    "pd.options.display.float_format = '${:,.2f}'.format"
   ]
  },
  {
   "cell_type": "code",
   "execution_count": null,
   "metadata": {
    "collapsed": false
   },
   "outputs": [],
   "source": [
    "desc1 = df[(df[\"treatment\"] == 1) & (df[\"after_op\"] == 0)][[\"SALE_PRICE\"]].describe()\n",
    "desc1.columns = [\"Sale Price (east of second avenue), before\"]\n",
    "desc2 = df[(df[\"treatment\"] == 1) & (df[\"after_op\"] == 1)][[\"SALE_PRICE\"]].describe()\n",
    "desc2.columns = [\"Sale Price (east of second avenue), after\"]\n",
    "desc3 = df[(df[\"treatment\"] == 0) & (df[\"after_op\"] == 0)][[\"SALE_PRICE\"]].describe()\n",
    "desc3.columns = [\"Sale Price (west of second avenue), before\"]\n",
    "desc4 = df[(df[\"treatment\"] == 0) & (df[\"after_op\"] == 1)][[\"SALE_PRICE\"]].describe()\n",
    "desc4.columns = [\"Sale Price (west of second avenue), after\"]\n",
    "\n",
    "desc1.join(desc2).join(desc3).join(desc4)"
   ]
  },
  {
   "cell_type": "code",
   "execution_count": null,
   "metadata": {
    "collapsed": true
   },
   "outputs": [],
   "source": [
    "df = old_df\n",
    "df[\"treatment\"] = df[\"east_or__1\"]\n",
    "two_or_more_sales = df.groupby([\"Address\", \"APT\"]).filter(lambda x: len(x) > 1)\n",
    "only_before_after = two_or_more_sales.groupby([\"ADDRESS\", \"APT\"]).filter(lambda x: x.SALE_DATE.min() < cutoff\\\n",
    "                                                               and x.SALE_DATE.max() >= cutoff)\n"
   ]
  },
  {
   "cell_type": "code",
   "execution_count": null,
   "metadata": {
    "collapsed": false
   },
   "outputs": [],
   "source": [
    "desc1 = df[(df[\"treatment\"] == 1) & (df[\"after_op\"] == 0)][[\"SALE_PRICE\"]].describe()\n",
    "desc1.columns = [\"Sale Price (<200m), before\"]\n",
    "desc2 = df[(df[\"treatment\"] == 1) & (df[\"after_op\"] == 1)][[\"SALE_PRICE\"]].describe()\n",
    "desc2.columns = [\"Sale Price (<200m), after\"]\n",
    "desc3 = df[(df[\"treatment\"] == 0) & (df[\"after_op\"] == 0)][[\"SALE_PRICE\"]].describe()\n",
    "desc3.columns = [\"Sale Price (>=200m), before\"]\n",
    "desc4 = df[(df[\"treatment\"] == 0) & (df[\"after_op\"] == 1)][[\"SALE_PRICE\"]].describe()\n",
    "desc4.columns = [\"Sale Price (>=200m), after\"]\n",
    "\n",
    "desc1.join(desc2).join(desc3).join(desc4)"
   ]
  },
  {
   "cell_type": "code",
   "execution_count": null,
   "metadata": {
    "collapsed": false
   },
   "outputs": [],
   "source": [
    "desc1 = df[(df[\"treatment\"] == 1) & (df[\"after_op\"] == 0)][[\"SALE_PRICE\"]].describe()\n",
    "desc1.columns = [\"Sale Price (<200m), before\"]\n",
    "desc2 = df[(df[\"treatment\"] == 1) & (df[\"after_op\"] == 1)][[\"SALE_PRICE\"]].describe()\n",
    "desc2.columns = [\"Sale Price (<200m), after\"]\n",
    "desc3 = df[(df[\"treatment\"] == 0) & (df[\"after_op\"] == 0)][[\"SALE_PRICE\"]].describe()\n",
    "desc3.columns = [\"Sale Price (>=200m), before\"]\n",
    "desc4 = df[(df[\"treatment\"] == 0) & (df[\"after_op\"] == 1)][[\"SALE_PRICE\"]].describe()\n",
    "desc4.columns = [\"Sale Price (>=200m), after\"]\n",
    "\n",
    "desc1.join(desc2).join(desc3).join(desc4)"
   ]
  },
  {
   "cell_type": "code",
   "execution_count": null,
   "metadata": {
    "collapsed": false
   },
   "outputs": [],
   "source": [
    "old_df = df\n",
    "df = only_before_after\n",
    "\n",
    "desc1 = df[(df[\"treatment\"] == 1) & (df[\"after_op\"] == 0)][[\"SALE_PRICE\"]].describe()\n",
    "desc1.columns = [\"Sale Price (east of second avenue), before\"]\n",
    "desc2 = df[(df[\"treatment\"] == 1) & (df[\"after_op\"] == 1)][[\"SALE_PRICE\"]].describe()\n",
    "desc2.columns = [\"Sale Price (east of second avenue), after\"]\n",
    "desc3 = df[(df[\"treatment\"] == 0) & (df[\"after_op\"] == 0)][[\"SALE_PRICE\"]].describe()\n",
    "desc3.columns = [\"Sale Price (west of second avenue), before\"]\n",
    "desc4 = df[(df[\"treatment\"] == 0) & (df[\"after_op\"] == 1)][[\"SALE_PRICE\"]].describe()\n",
    "desc4.columns = [\"Sale Price (west of second avenue), after\"]\n",
    "\n",
    "desc1.join(desc2).join(desc3).join(desc4)"
   ]
  },
  {
   "cell_type": "markdown",
   "metadata": {},
   "source": [
    "# volume plots"
   ]
  },
  {
   "cell_type": "code",
   "execution_count": null,
   "metadata": {
    "collapsed": false
   },
   "outputs": [],
   "source": [
    "grouped = df[df[\"treatment\"] == 1].groupby(\"SALE_MONTH\").median()[\"SALE_PRICE\"]\n",
    "grouped.index = pd.to_datetime(grouped.index)\n",
    "ax = grouped.plot(label=\"treatment zone (east of 2nd ave)\", linewidth=4)\n",
    "grouped = df[df[\"treatment\"] == 0].groupby(\"SALE_MONTH\").median()[\"SALE_PRICE\"]\n",
    "grouped.index = pd.to_datetime(grouped.index)\n",
    "grouped.plot(ax=ax, label=\"control zone (west of 2nd ave)\", figsize=(16, 9), linewidth=4)\n",
    "ax.axvline(cutoff, color='r', linestyle='--', linewidth=4, label=\"SAS Opening\")\n",
    "ax.set_xlim(datetime(2016, 1,1 ), datetime(2017, 9, 1))\n",
    "ax.set_xlabel(\"Sale Month\")\n",
    "ax.set_ylabel(\"Sale Price ($$$)\")\n",
    "ax.legend()\n",
    "\"\"\"\n",
    "CAPTION: we see that the whole neighborhood heated up through 2016. \n",
    "It appears yorkville was even a bit delayed beyond the UES market heating up.\n",
    "\"\"\""
   ]
  },
  {
   "cell_type": "code",
   "execution_count": null,
   "metadata": {
    "collapsed": false
   },
   "outputs": [],
   "source": [
    "df[\"treatment\"] = (df[\"distance\"] < 200).astype(np.int)\n",
    "grouped = df[df[\"treatment\"] == 1].groupby(\"SALE_MONTH\").count()[\"SALE_PRICE\"]\n",
    "grouped.index = pd.to_datetime(grouped.index)\n",
    "ax = grouped.plot(label=\"treatment zone (<200m)\")\n",
    "grouped = df[df[\"treatment\"] == 0].groupby(\"SALE_MONTH\").count()[\"SALE_PRICE\"]\n",
    "grouped.index = pd.to_datetime(grouped.index)\n",
    "grouped.plot(ax=ax, label=\"control zone (>=200m)\")\n",
    "ax.set_xlim(datetime(2016, 1,1 ), datetime(2017, 1, 1))\n",
    "ax.legend()\n",
    "ax.title(\"Sale volume for treament within 200m vs. control\")\n",
    "\"\"\"\n",
    "CAPTION: the scales are weird because there are fewer absolute sales, but \n",
    "we do see the treatment area heated up through 2016\n",
    "\"\"\""
   ]
  },
  {
   "cell_type": "code",
   "execution_count": null,
   "metadata": {
    "collapsed": false
   },
   "outputs": [],
   "source": [
    "ax = with_br.plot(\"bedrooms\", \"log_price\", kind=\"scatter\", figsize=(16, 9))\n",
    "with_br[[\"bedrooms\", \"log_price\"]].corr()\n",
    "ax.set_xlabel(\"# of bedrooms\")\n",
    "ax.set_ylabel(\"Log Sale Price (log-dollars)\")\n",
    "ax.set_title(\"Log-price vs. Bedrooms\")\n",
    "ax.set_xticks([0, 1, 2, 3, 4])\n",
    "ax.set_xticklabels([\"0 (Studio)\", 1, 2, 3, 4])"
   ]
  },
  {
   "cell_type": "code",
   "execution_count": null,
   "metadata": {
    "collapsed": true
   },
   "outputs": [],
   "source": [
    "\n",
    "def gen_vol_plot(bedrooms, title=None, ax=None, line_label=None, v=False):\n",
    "    sales_vols = with_br[with_br[\"bedrooms\"] == bedrooms][\"SALE_MONTH\"]\\\n",
    "                   .value_counts()\n",
    "    sales_vols.index = sales_vols.index.map(lambda x: pd.to_datetime(x))\n",
    "    ax2 = sales_vols.plot(figsize=(16, 9), ax=ax, label=line_label, linewidth=3)\n",
    "    if not ax:\n",
    "        ax2.set_xlabel(\"Year - Month\")\n",
    "        ax2.set_ylabel(\"Volume (# sales)\")\n",
    "    ax2.set_title(\"Volumes over time\" if not title else title)\n",
    "    if v:\n",
    "        ax2.axvline(datetime(2017, 1, 1), c='r', linestyle='--', label='SAS opening')\n",
    "        ax2.legend()\n",
    "    return ax2, l"
   ]
  },
  {
   "cell_type": "code",
   "execution_count": null,
   "metadata": {
    "collapsed": false
   },
   "outputs": [],
   "source": [
    "with_br.groupby(\"\")"
   ]
  },
  {
   "cell_type": "code",
   "execution_count": null,
   "metadata": {
    "collapsed": false
   },
   "outputs": [],
   "source": [
    "interesting.head()[\"delta_years\"].astype(np.int)"
   ]
  },
  {
   "cell_type": "code",
   "execution_count": null,
   "metadata": {
    "collapsed": false
   },
   "outputs": [],
   "source": [
    "n[3][[\"SALE_DATE\", \"SALE_PRICE\"]].iloc[-1]"
   ]
  },
  {
   "cell_type": "code",
   "execution_count": 24,
   "metadata": {
    "collapsed": false,
    "scrolled": true
   },
   "outputs": [
    {
     "data": {
      "text/html": [
       "<table class=\"simpletable\">\n",
       "<caption>OLS Regression Results</caption>\n",
       "<tr>\n",
       "  <th>Dep. Variable:</th>       <td>delta_price</td>   <th>  R-squared:         </th> <td>   0.336</td>\n",
       "</tr>\n",
       "<tr>\n",
       "  <th>Model:</th>                   <td>OLS</td>       <th>  Adj. R-squared:    </th> <td>  -0.119</td>\n",
       "</tr>\n",
       "<tr>\n",
       "  <th>Method:</th>             <td>Least Squares</td>  <th>  F-statistic:       </th> <td>  0.7390</td>\n",
       "</tr>\n",
       "<tr>\n",
       "  <th>Date:</th>             <td>Thu, 07 Dec 2017</td> <th>  Prob (F-statistic):</th>  <td> 0.708</td> \n",
       "</tr>\n",
       "<tr>\n",
       "  <th>Time:</th>                 <td>15:33:45</td>     <th>  Log-Likelihood:    </th> <td>  23.129</td>\n",
       "</tr>\n",
       "<tr>\n",
       "  <th>No. Observations:</th>      <td>    33</td>      <th>  AIC:               </th> <td>  -18.26</td>\n",
       "</tr>\n",
       "<tr>\n",
       "  <th>Df Residuals:</th>          <td>    19</td>      <th>  BIC:               </th> <td>   2.693</td>\n",
       "</tr>\n",
       "<tr>\n",
       "  <th>Df Model:</th>              <td>    13</td>      <th>                     </th>     <td> </td>   \n",
       "</tr>\n",
       "<tr>\n",
       "  <th>Covariance Type:</th>      <td>nonrobust</td>    <th>                     </th>     <td> </td>   \n",
       "</tr>\n",
       "</table>\n",
       "<table class=\"simpletable\">\n",
       "<tr>\n",
       "        <td></td>          <th>coef</th>     <th>std err</th>      <th>t</th>      <th>P>|t|</th>  <th>[0.025</th>    <th>0.975]</th>  \n",
       "</tr>\n",
       "<tr>\n",
       "  <th>Intercept</th>    <td>    0.1488</td> <td>    0.053</td> <td>    2.808</td> <td> 0.011</td> <td>    0.038</td> <td>    0.260</td>\n",
       "</tr>\n",
       "<tr>\n",
       "  <th>Q(\"q2008-1\")</th> <td>   -0.0906</td> <td>    0.108</td> <td>   -0.837</td> <td> 0.413</td> <td>   -0.317</td> <td>    0.136</td>\n",
       "</tr>\n",
       "<tr>\n",
       "  <th>Q(\"q2009-0\")</th> <td> 1.352e-17</td> <td> 3.46e-17</td> <td>    0.391</td> <td> 0.700</td> <td>-5.88e-17</td> <td> 8.59e-17</td>\n",
       "</tr>\n",
       "<tr>\n",
       "  <th>Q(\"q2009-1\")</th> <td> 1.131e-18</td> <td> 4.19e-17</td> <td>    0.027</td> <td> 0.979</td> <td>-8.65e-17</td> <td> 8.88e-17</td>\n",
       "</tr>\n",
       "<tr>\n",
       "  <th>Q(\"q2010-0\")</th> <td>-3.375e-17</td> <td> 3.02e-17</td> <td>   -1.119</td> <td> 0.277</td> <td>-9.69e-17</td> <td> 2.94e-17</td>\n",
       "</tr>\n",
       "<tr>\n",
       "  <th>Q(\"q2011-0\")</th> <td> 2.551e-17</td> <td>  3.7e-17</td> <td>    0.689</td> <td> 0.499</td> <td> -5.2e-17</td> <td> 1.03e-16</td>\n",
       "</tr>\n",
       "<tr>\n",
       "  <th>Q(\"q2011-1\")</th> <td>-2.177e-17</td> <td> 1.98e-17</td> <td>   -1.101</td> <td> 0.285</td> <td>-6.32e-17</td> <td> 1.96e-17</td>\n",
       "</tr>\n",
       "<tr>\n",
       "  <th>Q(\"q2012-1\")</th> <td> 5.419e-17</td> <td> 6.71e-17</td> <td>    0.808</td> <td> 0.429</td> <td>-8.62e-17</td> <td> 1.95e-16</td>\n",
       "</tr>\n",
       "<tr>\n",
       "  <th>Q(\"q2012-2\")</th> <td>   -0.0378</td> <td>    0.094</td> <td>   -0.401</td> <td> 0.693</td> <td>   -0.235</td> <td>    0.160</td>\n",
       "</tr>\n",
       "<tr>\n",
       "  <th>Q(\"q2013-0\")</th> <td>-2.511e-17</td> <td>  6.1e-17</td> <td>   -0.412</td> <td> 0.685</td> <td>-1.53e-16</td> <td> 1.03e-16</td>\n",
       "</tr>\n",
       "<tr>\n",
       "  <th>Q(\"q2013-1\")</th> <td>    0.0559</td> <td>    0.154</td> <td>    0.364</td> <td> 0.720</td> <td>   -0.266</td> <td>    0.378</td>\n",
       "</tr>\n",
       "<tr>\n",
       "  <th>Q(\"q2014-0\")</th> <td>    0.0888</td> <td>    0.075</td> <td>    1.187</td> <td> 0.250</td> <td>   -0.068</td> <td>    0.245</td>\n",
       "</tr>\n",
       "<tr>\n",
       "  <th>Q(\"q2014-1\")</th> <td>    0.0574</td> <td>    0.081</td> <td>    0.712</td> <td> 0.485</td> <td>   -0.111</td> <td>    0.226</td>\n",
       "</tr>\n",
       "<tr>\n",
       "  <th>Q(\"q2014-2\")</th> <td>    0.1012</td> <td>    0.118</td> <td>    0.860</td> <td> 0.401</td> <td>   -0.145</td> <td>    0.347</td>\n",
       "</tr>\n",
       "<tr>\n",
       "  <th>Q(\"q2015-0\")</th> <td>   -0.0861</td> <td>    0.112</td> <td>   -0.768</td> <td> 0.452</td> <td>   -0.321</td> <td>    0.149</td>\n",
       "</tr>\n",
       "<tr>\n",
       "  <th>Q(\"q2015-1\")</th> <td>   -0.0781</td> <td>    0.062</td> <td>   -1.251</td> <td> 0.226</td> <td>   -0.209</td> <td>    0.053</td>\n",
       "</tr>\n",
       "<tr>\n",
       "  <th>Q(\"q2015-2\")</th> <td>    0.0185</td> <td>    0.109</td> <td>    0.171</td> <td> 0.866</td> <td>   -0.209</td> <td>    0.246</td>\n",
       "</tr>\n",
       "<tr>\n",
       "  <th>Q(\"q2016-0\")</th> <td>    0.1441</td> <td>    0.157</td> <td>    0.918</td> <td> 0.370</td> <td>   -0.184</td> <td>    0.473</td>\n",
       "</tr>\n",
       "<tr>\n",
       "  <th>Q(\"q2016-1\")</th> <td>   -0.0244</td> <td>    0.156</td> <td>   -0.157</td> <td> 0.877</td> <td>   -0.350</td> <td>    0.301</td>\n",
       "</tr>\n",
       "<tr>\n",
       "  <th>Q(\"q2017-0\")</th> <td>    0.0108</td> <td>    0.061</td> <td>    0.178</td> <td> 0.861</td> <td>   -0.117</td> <td>    0.138</td>\n",
       "</tr>\n",
       "<tr>\n",
       "  <th>Q(\"q2017-1\")</th> <td>    0.0364</td> <td>    0.051</td> <td>    0.719</td> <td> 0.481</td> <td>   -0.070</td> <td>    0.143</td>\n",
       "</tr>\n",
       "<tr>\n",
       "  <th>Q(\"q2017-2\")</th> <td>    0.1015</td> <td>    0.094</td> <td>    1.082</td> <td> 0.293</td> <td>   -0.095</td> <td>    0.298</td>\n",
       "</tr>\n",
       "<tr>\n",
       "  <th>delta_dist</th>   <td> 6.131e-06</td> <td>    0.000</td> <td>    0.025</td> <td> 0.980</td> <td>   -0.001</td> <td>    0.001</td>\n",
       "</tr>\n",
       "</table>\n",
       "<table class=\"simpletable\">\n",
       "<tr>\n",
       "  <th>Omnibus:</th>       <td> 2.246</td> <th>  Durbin-Watson:     </th> <td>   1.373</td>\n",
       "</tr>\n",
       "<tr>\n",
       "  <th>Prob(Omnibus):</th> <td> 0.325</td> <th>  Jarque-Bera (JB):  </th> <td>   1.134</td>\n",
       "</tr>\n",
       "<tr>\n",
       "  <th>Skew:</th>          <td>-0.129</td> <th>  Prob(JB):          </th> <td>   0.567</td>\n",
       "</tr>\n",
       "<tr>\n",
       "  <th>Kurtosis:</th>      <td> 3.871</td> <th>  Cond. No.          </th> <td>1.84e+19</td>\n",
       "</tr>\n",
       "</table>"
      ],
      "text/plain": [
       "<class 'statsmodels.iolib.summary.Summary'>\n",
       "\"\"\"\n",
       "                            OLS Regression Results                            \n",
       "==============================================================================\n",
       "Dep. Variable:            delta_price   R-squared:                       0.336\n",
       "Model:                            OLS   Adj. R-squared:                 -0.119\n",
       "Method:                 Least Squares   F-statistic:                    0.7390\n",
       "Date:                Thu, 07 Dec 2017   Prob (F-statistic):              0.708\n",
       "Time:                        15:33:45   Log-Likelihood:                 23.129\n",
       "No. Observations:                  33   AIC:                            -18.26\n",
       "Df Residuals:                      19   BIC:                             2.693\n",
       "Df Model:                          13                                         \n",
       "Covariance Type:            nonrobust                                         \n",
       "================================================================================\n",
       "                   coef    std err          t      P>|t|      [0.025      0.975]\n",
       "--------------------------------------------------------------------------------\n",
       "Intercept        0.1488      0.053      2.808      0.011       0.038       0.260\n",
       "Q(\"q2008-1\")    -0.0906      0.108     -0.837      0.413      -0.317       0.136\n",
       "Q(\"q2009-0\")  1.352e-17   3.46e-17      0.391      0.700   -5.88e-17    8.59e-17\n",
       "Q(\"q2009-1\")  1.131e-18   4.19e-17      0.027      0.979   -8.65e-17    8.88e-17\n",
       "Q(\"q2010-0\") -3.375e-17   3.02e-17     -1.119      0.277   -9.69e-17    2.94e-17\n",
       "Q(\"q2011-0\")  2.551e-17    3.7e-17      0.689      0.499    -5.2e-17    1.03e-16\n",
       "Q(\"q2011-1\") -2.177e-17   1.98e-17     -1.101      0.285   -6.32e-17    1.96e-17\n",
       "Q(\"q2012-1\")  5.419e-17   6.71e-17      0.808      0.429   -8.62e-17    1.95e-16\n",
       "Q(\"q2012-2\")    -0.0378      0.094     -0.401      0.693      -0.235       0.160\n",
       "Q(\"q2013-0\") -2.511e-17    6.1e-17     -0.412      0.685   -1.53e-16    1.03e-16\n",
       "Q(\"q2013-1\")     0.0559      0.154      0.364      0.720      -0.266       0.378\n",
       "Q(\"q2014-0\")     0.0888      0.075      1.187      0.250      -0.068       0.245\n",
       "Q(\"q2014-1\")     0.0574      0.081      0.712      0.485      -0.111       0.226\n",
       "Q(\"q2014-2\")     0.1012      0.118      0.860      0.401      -0.145       0.347\n",
       "Q(\"q2015-0\")    -0.0861      0.112     -0.768      0.452      -0.321       0.149\n",
       "Q(\"q2015-1\")    -0.0781      0.062     -1.251      0.226      -0.209       0.053\n",
       "Q(\"q2015-2\")     0.0185      0.109      0.171      0.866      -0.209       0.246\n",
       "Q(\"q2016-0\")     0.1441      0.157      0.918      0.370      -0.184       0.473\n",
       "Q(\"q2016-1\")    -0.0244      0.156     -0.157      0.877      -0.350       0.301\n",
       "Q(\"q2017-0\")     0.0108      0.061      0.178      0.861      -0.117       0.138\n",
       "Q(\"q2017-1\")     0.0364      0.051      0.719      0.481      -0.070       0.143\n",
       "Q(\"q2017-2\")     0.1015      0.094      1.082      0.293      -0.095       0.298\n",
       "delta_dist    6.131e-06      0.000      0.025      0.980      -0.001       0.001\n",
       "==============================================================================\n",
       "Omnibus:                        2.246   Durbin-Watson:                   1.373\n",
       "Prob(Omnibus):                  0.325   Jarque-Bera (JB):                1.134\n",
       "Skew:                          -0.129   Prob(JB):                        0.567\n",
       "Kurtosis:                       3.871   Cond. No.                     1.84e+19\n",
       "==============================================================================\n",
       "\n",
       "Warnings:\n",
       "[1] Standard Errors assume that the covariance matrix of the errors is correctly specified.\n",
       "[2] The smallest eigenvalue is  8e-33. This might indicate that there are\n",
       "strong multicollinearity problems or that the design matrix is singular.\n",
       "\"\"\""
      ]
     },
     "execution_count": 24,
     "metadata": {},
     "output_type": "execute_result"
    },
    {
     "data": {
      "image/png": "[encoded data removed]",
      "text/plain": [
       "<matplotlib.figure.Figure at 0x7fa88465bed0>"
      ]
     },
     "metadata": {},
     "output_type": "display_data"
    }
   ],
   "source": [
    "n = []\n",
    "def get_deltas(g):\n",
    "    global n\n",
    "    sort = g.sort_values(\"SALE_DATE\")\n",
    "    n.append(sort)\n",
    "    first = sort.iloc[0]\n",
    "    last = sort.iloc[-1]\n",
    "    delta_price = last[\"log_price\"] - first[\"log_price\"]\n",
    "    if last.SALE_DATE.year == 2017:\n",
    "        delta_dist = np.max([last['distance_1'] - last['distance'], 0])\n",
    "    else:\n",
    "        delta_dist = 0.\n",
    "    \n",
    "    num_bedrooms = last[\"bedrooms\"] if 'bedrooms' in last else 0\n",
    "    \n",
    "    resale_quarter = str(last.SALE_DATE.year) + \"-\" + str(int((last.SALE_DATE.month - 1) / 4))\n",
    "    sale_quarter = str(first.SALE_DATE.year) + \"-\" + str(int((first.SALE_DATE.month - 1) / 4))\n",
    "    renovate = 0\n",
    "    for field in [\"YearAlter1\", \"YearAlter2\"]:\n",
    "        if first.SALE_DATE.year <= first[field] and last.SALE_DATE.year >= last[field]:\n",
    "            renovate = 1\n",
    "            \n",
    "    return pd.Series([ delta_price,  delta_dist, resale_quarter, sale_quarter, renovate, num_bedrooms] , index=[\"delta_price\", \n",
    "                                                                                        \"delta_dist\",\n",
    "                                                                                        \"resale_quarter\",\n",
    "                                                                                        \"sale_quarter\", \"renovate\", \"num_bedrooms\"])\n",
    "interesting = with_br.groupby(\"address_apt\").apply(lambda x: get_deltas(x))\n",
    "#interesting.plot('delta_dist', 'delta_price', kind='scatter')\n",
    "q = np.polyfit(interesting['delta_dist'], interesting['delta_price'], 1)\n",
    "#plt.plot(np.arange(500), np.arange(500) * q[0] + q[1], 'r-')\n",
    "sale_quarter = pd.get_dummies(interesting[\"sale_quarter\"])\n",
    "sale_quarter.columns = [\"q\"+x for x in sale_quarter.columns]\n",
    "resale_quarter = pd.get_dummies(interesting[\"resale_quarter\"])\n",
    "resale_quarter.columns = [\"q\"+x for x in resale_quarter.columns]\n",
    "sale_quarter\n",
    "cols = ['Q(\"{}\")'.format(x) for x in list(sale_quarter.columns) + list(resale_quarter.columns)]\n",
    "reg_cols = \" + \".join(cols + [\"delta_dist\"])\n",
    "interesting_j = interesting.join(sale_quarter).join(resale_quarter)\n",
    "interesting_j = interesting_j[(interesting_j[\"delta_price\"] < 1.5) & (interesting_j[\"delta_dist\"] > 0)]\n",
    "interesting_j.plot(\"delta_dist\", \"delta_price\", kind=\"scatter\", figsize=(16, 9))\n",
    "smf.ols(\"delta_price ~ {}\".format(reg_cols), data=interesting_j).fit().summary()\n"
   ]
  },
  {
   "cell_type": "code",
   "execution_count": null,
   "metadata": {
    "collapsed": false
   },
   "outputs": [],
   "source": [
    "interesting.plot(\"num_bedrooms\", \"delta_price\", kind=\"scatter\")"
   ]
  },
  {
   "cell_type": "code",
   "execution_count": null,
   "metadata": {
    "collapsed": false
   },
   "outputs": [],
   "source": [
    "with_br.YearAlter2.unique()"
   ]
  },
  {
   "cell_type": "code",
   "execution_count": 25,
   "metadata": {
    "collapsed": false,
    "scrolled": true
   },
   "outputs": [
    {
     "data": {
      "text/html": [
       "<table class=\"simpletable\">\n",
       "<caption>OLS Regression Results</caption>\n",
       "<tr>\n",
       "  <th>Dep. Variable:</th>       <td>delta_price</td>   <th>  R-squared:         </th> <td>   0.112</td>\n",
       "</tr>\n",
       "<tr>\n",
       "  <th>Model:</th>                   <td>OLS</td>       <th>  Adj. R-squared:    </th> <td>   0.097</td>\n",
       "</tr>\n",
       "<tr>\n",
       "  <th>Method:</th>             <td>Least Squares</td>  <th>  F-statistic:       </th> <td>   7.493</td>\n",
       "</tr>\n",
       "<tr>\n",
       "  <th>Date:</th>             <td>Thu, 07 Dec 2017</td> <th>  Prob (F-statistic):</th> <td>1.53e-29</td>\n",
       "</tr>\n",
       "<tr>\n",
       "  <th>Time:</th>                 <td>15:34:02</td>     <th>  Log-Likelihood:    </th> <td> -525.22</td>\n",
       "</tr>\n",
       "<tr>\n",
       "  <th>No. Observations:</th>      <td>  1811</td>      <th>  AIC:               </th> <td>   1112.</td>\n",
       "</tr>\n",
       "<tr>\n",
       "  <th>Df Residuals:</th>          <td>  1780</td>      <th>  BIC:               </th> <td>   1283.</td>\n",
       "</tr>\n",
       "<tr>\n",
       "  <th>Df Model:</th>              <td>    30</td>      <th>                     </th>     <td> </td>   \n",
       "</tr>\n",
       "<tr>\n",
       "  <th>Covariance Type:</th>      <td>nonrobust</td>    <th>                     </th>     <td> </td>   \n",
       "</tr>\n",
       "</table>\n",
       "<table class=\"simpletable\">\n",
       "<tr>\n",
       "           <td></td>             <th>coef</th>     <th>std err</th>      <th>t</th>      <th>P>|t|</th>  <th>[0.025</th>    <th>0.975]</th>  \n",
       "</tr>\n",
       "<tr>\n",
       "  <th>Intercept</th>          <td>    0.1796</td> <td>    0.019</td> <td>    9.493</td> <td> 0.000</td> <td>    0.143</td> <td>    0.217</td>\n",
       "</tr>\n",
       "<tr>\n",
       "  <th>Q(\"q2008-0\")</th>       <td>    0.1237</td> <td>    0.028</td> <td>    4.388</td> <td> 0.000</td> <td>    0.068</td> <td>    0.179</td>\n",
       "</tr>\n",
       "<tr>\n",
       "  <th>Q(\"q2016-2\")</th>       <td>    0.0724</td> <td>    0.031</td> <td>    2.305</td> <td> 0.021</td> <td>    0.011</td> <td>    0.134</td>\n",
       "</tr>\n",
       "<tr>\n",
       "  <th>Q(\"q2017-0\")</th>       <td>    0.0667</td> <td>    0.036</td> <td>    1.828</td> <td> 0.068</td> <td>   -0.005</td> <td>    0.138</td>\n",
       "</tr>\n",
       "<tr>\n",
       "  <th>Q(\"q2017-1\")</th>       <td>    0.0677</td> <td>    0.029</td> <td>    2.347</td> <td> 0.019</td> <td>    0.011</td> <td>    0.124</td>\n",
       "</tr>\n",
       "<tr>\n",
       "  <th>Q(\"q2017-2\")</th>       <td>    0.1878</td> <td>    0.070</td> <td>    2.664</td> <td> 0.008</td> <td>    0.050</td> <td>    0.326</td>\n",
       "</tr>\n",
       "<tr>\n",
       "  <th>Q(\"q2008-1_final\")</th> <td>    0.0858</td> <td>    0.028</td> <td>    3.113</td> <td> 0.002</td> <td>    0.032</td> <td>    0.140</td>\n",
       "</tr>\n",
       "<tr>\n",
       "  <th>Q(\"q2008-2_final\")</th> <td>    0.0772</td> <td>    0.033</td> <td>    2.330</td> <td> 0.020</td> <td>    0.012</td> <td>    0.142</td>\n",
       "</tr>\n",
       "<tr>\n",
       "  <th>Q(\"q2009-0_final\")</th> <td>    0.0080</td> <td>    0.040</td> <td>    0.200</td> <td> 0.842</td> <td>   -0.071</td> <td>    0.087</td>\n",
       "</tr>\n",
       "<tr>\n",
       "  <th>Q(\"q2009-1_final\")</th> <td>   -0.0988</td> <td>    0.032</td> <td>   -3.107</td> <td> 0.002</td> <td>   -0.161</td> <td>   -0.036</td>\n",
       "</tr>\n",
       "<tr>\n",
       "  <th>Q(\"q2009-2_final\")</th> <td>   -0.0661</td> <td>    0.029</td> <td>   -2.281</td> <td> 0.023</td> <td>   -0.123</td> <td>   -0.009</td>\n",
       "</tr>\n",
       "<tr>\n",
       "  <th>Q(\"q2010-0_final\")</th> <td>   -0.0756</td> <td>    0.031</td> <td>   -2.461</td> <td> 0.014</td> <td>   -0.136</td> <td>   -0.015</td>\n",
       "</tr>\n",
       "<tr>\n",
       "  <th>Q(\"q2010-1_final\")</th> <td>   -0.0705</td> <td>    0.059</td> <td>   -1.188</td> <td> 0.235</td> <td>   -0.187</td> <td>    0.046</td>\n",
       "</tr>\n",
       "<tr>\n",
       "  <th>Q(\"q2011-0_final\")</th> <td>   -0.1775</td> <td>    0.035</td> <td>   -5.033</td> <td> 0.000</td> <td>   -0.247</td> <td>   -0.108</td>\n",
       "</tr>\n",
       "<tr>\n",
       "  <th>Q(\"q2011-1_final\")</th> <td>   -0.0539</td> <td>    0.029</td> <td>   -1.848</td> <td> 0.065</td> <td>   -0.111</td> <td>    0.003</td>\n",
       "</tr>\n",
       "<tr>\n",
       "  <th>Q(\"q2011-2_final\")</th> <td>   -0.0965</td> <td>    0.034</td> <td>   -2.820</td> <td> 0.005</td> <td>   -0.164</td> <td>   -0.029</td>\n",
       "</tr>\n",
       "<tr>\n",
       "  <th>Q(\"q2012-0_final\")</th> <td>   -0.1713</td> <td>    0.034</td> <td>   -5.015</td> <td> 0.000</td> <td>   -0.238</td> <td>   -0.104</td>\n",
       "</tr>\n",
       "<tr>\n",
       "  <th>Q(\"q2012-1_final\")</th> <td>   -0.1273</td> <td>    0.027</td> <td>   -4.695</td> <td> 0.000</td> <td>   -0.181</td> <td>   -0.074</td>\n",
       "</tr>\n",
       "<tr>\n",
       "  <th>Q(\"q2012-2_final\")</th> <td>   -0.0644</td> <td>    0.027</td> <td>   -2.361</td> <td> 0.018</td> <td>   -0.118</td> <td>   -0.011</td>\n",
       "</tr>\n",
       "<tr>\n",
       "  <th>Q(\"q2013-0_final\")</th> <td>   -0.0805</td> <td>    0.032</td> <td>   -2.536</td> <td> 0.011</td> <td>   -0.143</td> <td>   -0.018</td>\n",
       "</tr>\n",
       "<tr>\n",
       "  <th>Q(\"q2013-1_final\")</th> <td>    0.0145</td> <td>    0.024</td> <td>    0.603</td> <td> 0.546</td> <td>   -0.033</td> <td>    0.062</td>\n",
       "</tr>\n",
       "<tr>\n",
       "  <th>Q(\"q2013-2_final\")</th> <td>    0.0020</td> <td>    0.028</td> <td>    0.072</td> <td> 0.943</td> <td>   -0.053</td> <td>    0.057</td>\n",
       "</tr>\n",
       "<tr>\n",
       "  <th>Q(\"q2014-0_final\")</th> <td>   -0.0073</td> <td>    0.030</td> <td>   -0.248</td> <td> 0.804</td> <td>   -0.065</td> <td>    0.051</td>\n",
       "</tr>\n",
       "<tr>\n",
       "  <th>Q(\"q2014-1_final\")</th> <td>    0.0162</td> <td>    0.026</td> <td>    0.619</td> <td> 0.536</td> <td>   -0.035</td> <td>    0.068</td>\n",
       "</tr>\n",
       "<tr>\n",
       "  <th>Q(\"q2014-2_final\")</th> <td>    0.0337</td> <td>    0.033</td> <td>    1.020</td> <td> 0.308</td> <td>   -0.031</td> <td>    0.098</td>\n",
       "</tr>\n",
       "<tr>\n",
       "  <th>Q(\"q2015-0_final\")</th> <td>    0.0293</td> <td>    0.032</td> <td>    0.928</td> <td> 0.353</td> <td>   -0.033</td> <td>    0.091</td>\n",
       "</tr>\n",
       "<tr>\n",
       "  <th>Q(\"q2015-1_final\")</th> <td>    0.0662</td> <td>    0.026</td> <td>    2.592</td> <td> 0.010</td> <td>    0.016</td> <td>    0.116</td>\n",
       "</tr>\n",
       "<tr>\n",
       "  <th>Q(\"q2015-2_final\")</th> <td>    0.0830</td> <td>    0.029</td> <td>    2.830</td> <td> 0.005</td> <td>    0.025</td> <td>    0.141</td>\n",
       "</tr>\n",
       "<tr>\n",
       "  <th>Q(\"q2016-0_final\")</th> <td>    0.0905</td> <td>    0.031</td> <td>    2.894</td> <td> 0.004</td> <td>    0.029</td> <td>    0.152</td>\n",
       "</tr>\n",
       "<tr>\n",
       "  <th>Q(\"q2016-1_final\")</th> <td>    0.0650</td> <td>    0.028</td> <td>    2.298</td> <td> 0.022</td> <td>    0.010</td> <td>    0.121</td>\n",
       "</tr>\n",
       "<tr>\n",
       "  <th>delta_dist</th>         <td>    0.0002</td> <td>    0.000</td> <td>    1.717</td> <td> 0.086</td> <td> -2.8e-05</td> <td>    0.000</td>\n",
       "</tr>\n",
       "<tr>\n",
       "  <th>renovate</th>           <td>    0.0146</td> <td>    0.036</td> <td>    0.402</td> <td> 0.688</td> <td>   -0.057</td> <td>    0.086</td>\n",
       "</tr>\n",
       "</table>\n",
       "<table class=\"simpletable\">\n",
       "<tr>\n",
       "  <th>Omnibus:</th>       <td>2134.328</td> <th>  Durbin-Watson:     </th>  <td>   1.989</td> \n",
       "</tr>\n",
       "<tr>\n",
       "  <th>Prob(Omnibus):</th>  <td> 0.000</td>  <th>  Jarque-Bera (JB):  </th> <td>314568.646</td>\n",
       "</tr>\n",
       "<tr>\n",
       "  <th>Skew:</th>           <td> 5.939</td>  <th>  Prob(JB):          </th>  <td>    0.00</td> \n",
       "</tr>\n",
       "<tr>\n",
       "  <th>Kurtosis:</th>       <td>66.464</td>  <th>  Cond. No.          </th>  <td>2.25e+15</td> \n",
       "</tr>\n",
       "</table>"
      ],
      "text/plain": [
       "<class 'statsmodels.iolib.summary.Summary'>\n",
       "\"\"\"\n",
       "                            OLS Regression Results                            \n",
       "==============================================================================\n",
       "Dep. Variable:            delta_price   R-squared:                       0.112\n",
       "Model:                            OLS   Adj. R-squared:                  0.097\n",
       "Method:                 Least Squares   F-statistic:                     7.493\n",
       "Date:                Thu, 07 Dec 2017   Prob (F-statistic):           1.53e-29\n",
       "Time:                        15:34:02   Log-Likelihood:                -525.22\n",
       "No. Observations:                1811   AIC:                             1112.\n",
       "Df Residuals:                    1780   BIC:                             1283.\n",
       "Df Model:                          30                                         \n",
       "Covariance Type:            nonrobust                                         \n",
       "======================================================================================\n",
       "                         coef    std err          t      P>|t|      [0.025      0.975]\n",
       "--------------------------------------------------------------------------------------\n",
       "Intercept              0.1796      0.019      9.493      0.000       0.143       0.217\n",
       "Q(\"q2008-0\")           0.1237      0.028      4.388      0.000       0.068       0.179\n",
       "Q(\"q2016-2\")           0.0724      0.031      2.305      0.021       0.011       0.134\n",
       "Q(\"q2017-0\")           0.0667      0.036      1.828      0.068      -0.005       0.138\n",
       "Q(\"q2017-1\")           0.0677      0.029      2.347      0.019       0.011       0.124\n",
       "Q(\"q2017-2\")           0.1878      0.070      2.664      0.008       0.050       0.326\n",
       "Q(\"q2008-1_final\")     0.0858      0.028      3.113      0.002       0.032       0.140\n",
       "Q(\"q2008-2_final\")     0.0772      0.033      2.330      0.020       0.012       0.142\n",
       "Q(\"q2009-0_final\")     0.0080      0.040      0.200      0.842      -0.071       0.087\n",
       "Q(\"q2009-1_final\")    -0.0988      0.032     -3.107      0.002      -0.161      -0.036\n",
       "Q(\"q2009-2_final\")    -0.0661      0.029     -2.281      0.023      -0.123      -0.009\n",
       "Q(\"q2010-0_final\")    -0.0756      0.031     -2.461      0.014      -0.136      -0.015\n",
       "Q(\"q2010-1_final\")    -0.0705      0.059     -1.188      0.235      -0.187       0.046\n",
       "Q(\"q2011-0_final\")    -0.1775      0.035     -5.033      0.000      -0.247      -0.108\n",
       "Q(\"q2011-1_final\")    -0.0539      0.029     -1.848      0.065      -0.111       0.003\n",
       "Q(\"q2011-2_final\")    -0.0965      0.034     -2.820      0.005      -0.164      -0.029\n",
       "Q(\"q2012-0_final\")    -0.1713      0.034     -5.015      0.000      -0.238      -0.104\n",
       "Q(\"q2012-1_final\")    -0.1273      0.027     -4.695      0.000      -0.181      -0.074\n",
       "Q(\"q2012-2_final\")    -0.0644      0.027     -2.361      0.018      -0.118      -0.011\n",
       "Q(\"q2013-0_final\")    -0.0805      0.032     -2.536      0.011      -0.143      -0.018\n",
       "Q(\"q2013-1_final\")     0.0145      0.024      0.603      0.546      -0.033       0.062\n",
       "Q(\"q2013-2_final\")     0.0020      0.028      0.072      0.943      -0.053       0.057\n",
       "Q(\"q2014-0_final\")    -0.0073      0.030     -0.248      0.804      -0.065       0.051\n",
       "Q(\"q2014-1_final\")     0.0162      0.026      0.619      0.536      -0.035       0.068\n",
       "Q(\"q2014-2_final\")     0.0337      0.033      1.020      0.308      -0.031       0.098\n",
       "Q(\"q2015-0_final\")     0.0293      0.032      0.928      0.353      -0.033       0.091\n",
       "Q(\"q2015-1_final\")     0.0662      0.026      2.592      0.010       0.016       0.116\n",
       "Q(\"q2015-2_final\")     0.0830      0.029      2.830      0.005       0.025       0.141\n",
       "Q(\"q2016-0_final\")     0.0905      0.031      2.894      0.004       0.029       0.152\n",
       "Q(\"q2016-1_final\")     0.0650      0.028      2.298      0.022       0.010       0.121\n",
       "delta_dist             0.0002      0.000      1.717      0.086    -2.8e-05       0.000\n",
       "renovate               0.0146      0.036      0.402      0.688      -0.057       0.086\n",
       "==============================================================================\n",
       "Omnibus:                     2134.328   Durbin-Watson:                   1.989\n",
       "Prob(Omnibus):                  0.000   Jarque-Bera (JB):           314568.646\n",
       "Skew:                           5.939   Prob(JB):                         0.00\n",
       "Kurtosis:                      66.464   Cond. No.                     2.25e+15\n",
       "==============================================================================\n",
       "\n",
       "Warnings:\n",
       "[1] Standard Errors assume that the covariance matrix of the errors is correctly specified.\n",
       "[2] The smallest eigenvalue is 2.79e-24. This might indicate that there are\n",
       "strong multicollinearity problems or that the design matrix is singular.\n",
       "\"\"\""
      ]
     },
     "execution_count": 25,
     "metadata": {},
     "output_type": "execute_result"
    }
   ],
   "source": [
    "all_sales_times = two_or_more_sales.groupby(\"address_apt\").apply(lambda x: get_deltas(x))\n",
    "all_sales_times = all_sales_times[all_sales_times[\"resale_quarter\"] != all_sales_times[\"sale_quarter\"]]\n",
    "sale_quarter = -1 * pd.get_dummies(all_sales_times[\"sale_quarter\"])\n",
    "sale_quarter.columns = [\"q\"+x for x in sale_quarter.columns]\n",
    "resale_quarter = pd.get_dummies(all_sales_times[\"resale_quarter\"])\n",
    "resale_quarter.columns = [\"q\"+x for x in resale_quarter.columns]\n",
    "sale_and_resale = sale_quarter.join(resale_quarter, rsuffix=\"rs\")\n",
    "for col in sale_and_resale:\n",
    "    if 'rs' not in col and (col + 'rs') in sale_and_resale:\n",
    "        sale_and_resale[col + \"_final\"] = sale_and_resale[col + \"rs\"] + sale_and_resale[col]\n",
    "ready_to_regress = all_sales_times.join(sale_and_resale)\n",
    "cols = ['Q(\"{}\")'.format(x) for x in sale_and_resale.columns if 'rs' not in x and (x + '_final') not in sale_and_resale]\n",
    "reg_cols = \" + \".join(cols + [\"delta_dist\", \"renovate\"])\n",
    "smf.ols(\"delta_price ~ {}\".format(reg_cols), data=ready_to_regress[(ready_to_regress[\"delta_price\"] > -.5)]).fit().summary()"
   ]
  },
  {
   "cell_type": "code",
   "execution_count": 26,
   "metadata": {
    "collapsed": false
   },
   "outputs": [
    {
     "data": {
      "text/plain": [
       "<matplotlib.axes._subplots.AxesSubplot at 0x7fa882c8bbd0>"
      ]
     },
     "execution_count": 26,
     "metadata": {},
     "output_type": "execute_result"
    },
    {
     "data": {
      "image/png": "[encoded data removed]",
      "text/plain": [
       "<matplotlib.figure.Figure at 0x7fa882c8b750>"
      ]
     },
     "metadata": {},
     "output_type": "display_data"
    }
   ],
   "source": [
    "ready_to_regress[\"delta_price\"].hist()"
   ]
  },
  {
   "cell_type": "code",
   "execution_count": null,
   "metadata": {
    "collapsed": false
   },
   "outputs": [],
   "source": [
    "interesting.renovate.unique()"
   ]
  },
  {
   "cell_type": "code",
   "execution_count": null,
   "metadata": {
    "collapsed": false
   },
   "outputs": [],
   "source": [
    "sale_quarter.columns"
   ]
  },
  {
   "cell_type": "code",
   "execution_count": null,
   "metadata": {
    "collapsed": false
   },
   "outputs": [],
   "source": [
    "resale_quarter.columns"
   ]
  },
  {
   "cell_type": "code",
   "execution_count": 27,
   "metadata": {
    "collapsed": false
   },
   "outputs": [
    {
     "data": {
      "image/png": "[encoded data removed]",
      "text/plain": [
       "<matplotlib.figure.Figure at 0x7fa882c8bc90>"
      ]
     },
     "metadata": {},
     "output_type": "display_data"
    }
   ],
   "source": [
    "ax = ready_to_regress.plot('delta_dist', 'delta_price', kind='scatter', figsize=(16, 9))\n",
    "q = np.polyfit(interesting['delta_dist'], interesting['delta_price'], 1)\n",
    "plt.plot(np.arange(500), np.arange(500) * q[0] + q[1], 'r-')\n",
    "ax.set_xlabel(\"Change In distance to nearest transit\")\n",
    "ax.set_ylabel(\"Change in (log) sale price\")\n",
    "ax.set_title(\"Repeated-sales model for sales price\")\n",
    "font = {'family' : 'normal',\n",
    "        'weight' : 'bold',\n",
    "        'size'   : 32}\n",
    "\n",
    "matplotlib.rc('font', **font)"
   ]
  },
  {
   "cell_type": "code",
   "execution_count": 28,
   "metadata": {
    "collapsed": false
   },
   "outputs": [
    {
     "data": {
      "text/plain": [
       "array([ 0.00022752,  0.20460368])"
      ]
     },
     "execution_count": 28,
     "metadata": {},
     "output_type": "execute_result"
    }
   ],
   "source": [
    "q"
   ]
  },
  {
   "cell_type": "code",
   "execution_count": null,
   "metadata": {
    "collapsed": true
   },
   "outputs": [],
   "source": []
  }
 ],
 "metadata": {
  "kernelspec": {
   "display_name": "Python 2",
   "language": "python",
   "name": "python2"
  },
  "language_info": {
   "codemirror_mode": {
    "name": "ipython",
    "version": 2
   },
   "file_extension": ".py",
   "mimetype": "text/x-python",
   "name": "python",
   "nbconvert_exporter": "python",
   "pygments_lexer": "ipython2",
   "version": "2.7.12"
  }
 },
 "nbformat": 4,
 "nbformat_minor": 0
}
